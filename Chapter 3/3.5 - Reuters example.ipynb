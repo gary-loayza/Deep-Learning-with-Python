{
 "cells": [
  {
   "cell_type": "markdown",
   "metadata": {},
   "source": [
    "# Reuters Dataset\n",
    "In this example, we are attempting to classify Reuters newswires into 46 mutually exclusive classes using a densely connected neural network.\n",
    "\n",
    "This is a case of *single-label, multiclass classification*."
   ]
  },
  {
   "cell_type": "code",
   "execution_count": 1,
   "metadata": {},
   "outputs": [
    {
     "name": "stderr",
     "output_type": "stream",
     "text": [
      "/usr/local/lib/python3.8/dist-packages/tensorflow/python/keras/datasets/reuters.py:148: VisibleDeprecationWarning: Creating an ndarray from ragged nested sequences (which is a list-or-tuple of lists-or-tuples-or ndarrays with different lengths or shapes) is deprecated. If you meant to do this, you must specify 'dtype=object' when creating the ndarray\n",
      "  x_train, y_train = np.array(xs[:idx]), np.array(labels[:idx])\n",
      "/usr/local/lib/python3.8/dist-packages/tensorflow/python/keras/datasets/reuters.py:149: VisibleDeprecationWarning: Creating an ndarray from ragged nested sequences (which is a list-or-tuple of lists-or-tuples-or ndarrays with different lengths or shapes) is deprecated. If you meant to do this, you must specify 'dtype=object' when creating the ndarray\n",
      "  x_test, y_test = np.array(xs[idx:]), np.array(labels[idx:])\n"
     ]
    }
   ],
   "source": [
    "from keras.datasets import reuters\n",
    "\n",
    "(train_data, train_labels),(test_data, test_labels) = reuters.load_data(num_words=10000)"
   ]
  },
  {
   "cell_type": "code",
   "execution_count": 2,
   "metadata": {},
   "outputs": [
    {
     "data": {
      "text/plain": [
       "8982"
      ]
     },
     "execution_count": 2,
     "metadata": {},
     "output_type": "execute_result"
    }
   ],
   "source": [
    "len(train_data)"
   ]
  },
  {
   "cell_type": "code",
   "execution_count": 3,
   "metadata": {},
   "outputs": [
    {
     "data": {
      "text/plain": [
       "2246"
      ]
     },
     "execution_count": 3,
     "metadata": {},
     "output_type": "execute_result"
    }
   ],
   "source": [
    "len(test_data)"
   ]
  },
  {
   "cell_type": "code",
   "execution_count": 4,
   "metadata": {},
   "outputs": [
    {
     "data": {
      "text/plain": [
       "[1,\n",
       " 245,\n",
       " 273,\n",
       " 207,\n",
       " 156,\n",
       " 53,\n",
       " 74,\n",
       " 160,\n",
       " 26,\n",
       " 14,\n",
       " 46,\n",
       " 296,\n",
       " 26,\n",
       " 39,\n",
       " 74,\n",
       " 2979,\n",
       " 3554,\n",
       " 14,\n",
       " 46,\n",
       " 4689,\n",
       " 4329,\n",
       " 86,\n",
       " 61,\n",
       " 3499,\n",
       " 4795,\n",
       " 14,\n",
       " 61,\n",
       " 451,\n",
       " 4329,\n",
       " 17,\n",
       " 12]"
      ]
     },
     "execution_count": 4,
     "metadata": {},
     "output_type": "execute_result"
    }
   ],
   "source": [
    "train_data[10]"
   ]
  },
  {
   "cell_type": "markdown",
   "metadata": {},
   "source": [
    "We will skip the step of reversing the encoding for this example. I'm not particularly interested in what this newswire translates to."
   ]
  },
  {
   "cell_type": "code",
   "execution_count": 5,
   "metadata": {},
   "outputs": [
    {
     "data": {
      "text/plain": [
       "3"
      ]
     },
     "execution_count": 5,
     "metadata": {},
     "output_type": "execute_result"
    }
   ],
   "source": [
    "train_labels[10]"
   ]
  },
  {
   "cell_type": "markdown",
   "metadata": {},
   "source": [
    "## Preparing the data\n",
    "The input data will be treated the same for both train and test sets. The label data will be handled differently."
   ]
  },
  {
   "cell_type": "code",
   "execution_count": 6,
   "metadata": {},
   "outputs": [],
   "source": [
    "import numpy as np\n",
    "\n",
    "def vectorize_sequences(sequences, dimension=10000):\n",
    "    results = np.zeros((len(sequences), dimension))\n",
    "    for i, sequence in enumerate(sequences):\n",
    "        results[i, sequence] = 1\n",
    "    return results"
   ]
  },
  {
   "cell_type": "code",
   "execution_count": 7,
   "metadata": {},
   "outputs": [],
   "source": [
    "x_train = vectorize_sequences(train_data)\n",
    "x_test = vectorize_sequences(test_data)"
   ]
  },
  {
   "cell_type": "code",
   "execution_count": 8,
   "metadata": {},
   "outputs": [
    {
     "data": {
      "text/plain": [
       "array([[0., 1., 1., ..., 0., 0., 0.],\n",
       "       [0., 1., 1., ..., 0., 0., 0.],\n",
       "       [0., 1., 1., ..., 0., 0., 0.],\n",
       "       ...,\n",
       "       [0., 1., 1., ..., 0., 0., 0.],\n",
       "       [0., 1., 1., ..., 0., 0., 0.],\n",
       "       [0., 1., 1., ..., 0., 0., 0.]])"
      ]
     },
     "execution_count": 8,
     "metadata": {},
     "output_type": "execute_result"
    }
   ],
   "source": [
    "x_train"
   ]
  },
  {
   "cell_type": "markdown",
   "metadata": {},
   "source": [
    "We will have to encode the labels using a one-hot encoding vector.  \n",
    "Note: There are 46 possible labels.\n",
    "\n",
    "First, we will do this manually as a demonstration, but we can also use Keras' built in method"
   ]
  },
  {
   "cell_type": "code",
   "execution_count": 9,
   "metadata": {},
   "outputs": [],
   "source": [
    "def to_one_hot(labels, dimension=46):\n",
    "    results = np.zeros((len(labels),dimension))\n",
    "    for i, label in enumerate(labels):\n",
    "        results[i, label] = 1\n",
    "    return results"
   ]
  },
  {
   "cell_type": "code",
   "execution_count": 10,
   "metadata": {},
   "outputs": [],
   "source": [
    "one_hot_train_labels = to_one_hot(train_labels)\n",
    "one_hot_test_labels = to_one_hot(test_labels)"
   ]
  },
  {
   "cell_type": "code",
   "execution_count": 11,
   "metadata": {},
   "outputs": [
    {
     "data": {
      "text/plain": [
       "array([0., 0., 0., 1., 0., 0., 0., 0., 0., 0., 0., 0., 0., 0., 0., 0., 0.,\n",
       "       0., 0., 0., 0., 0., 0., 0., 0., 0., 0., 0., 0., 0., 0., 0., 0., 0.,\n",
       "       0., 0., 0., 0., 0., 0., 0., 0., 0., 0., 0., 0.])"
      ]
     },
     "execution_count": 11,
     "metadata": {},
     "output_type": "execute_result"
    }
   ],
   "source": [
    "one_hot_train_labels[10]"
   ]
  },
  {
   "cell_type": "markdown",
   "metadata": {},
   "source": [
    "Or the built-in method"
   ]
  },
  {
   "cell_type": "code",
   "execution_count": 12,
   "metadata": {},
   "outputs": [],
   "source": [
    "from keras.utils.np_utils import to_categorical\n",
    "\n",
    "one_hot_train_labels = to_categorical(train_labels)\n",
    "one_hot_test_labels = to_categorical(test_labels)"
   ]
  },
  {
   "cell_type": "code",
   "execution_count": 13,
   "metadata": {},
   "outputs": [
    {
     "data": {
      "text/plain": [
       "array([0., 0., 0., 1., 0., 0., 0., 0., 0., 0., 0., 0., 0., 0., 0., 0., 0.,\n",
       "       0., 0., 0., 0., 0., 0., 0., 0., 0., 0., 0., 0., 0., 0., 0., 0., 0.,\n",
       "       0., 0., 0., 0., 0., 0., 0., 0., 0., 0., 0., 0.], dtype=float32)"
      ]
     },
     "execution_count": 13,
     "metadata": {},
     "output_type": "execute_result"
    }
   ],
   "source": [
    "one_hot_train_labels[10]"
   ]
  },
  {
   "cell_type": "markdown",
   "metadata": {},
   "source": [
    "## Building the network\n",
    "In the previous example, we used 16-dimensional intermediate layers, but a 16-dimensional space may be too limited to learn to separate 46 different classes: such small layers may act as information bottlenecks, permanently dropping relevant information.\n",
    "\n",
    "For this reason, we'll use larger layers. Let's go with 64 units."
   ]
  },
  {
   "cell_type": "code",
   "execution_count": 14,
   "metadata": {},
   "outputs": [],
   "source": [
    "from keras import models\n",
    "from keras import layers\n",
    "\n",
    "model = models.Sequential()\n",
    "model.add(layers.Dense(64, activation='relu', input_shape=(10000,)))\n",
    "model.add(layers.Dense(64, activation='relu'))\n",
    "model.add(layers.Dense(46, activation='softmax'))"
   ]
  },
  {
   "cell_type": "markdown",
   "metadata": {},
   "source": [
    "Note that the output will be a 46-dimensional vector. Each entry in this vector will represent a different output class. Additionally, the output uses a softmax activation. It means the network will output a *probability distribution* over the 46 different output classes, where `output[i]` is the probability that the sample belongs to class `i`. The 46 scores will sum to 1.\n",
    "\n",
    "The best loss function to use int his case is the `categorical_crossentropy`. It measures the distance between two probability distributions: here, between the probability distribution **output by the network** and the **true distribution of the labels**. By minimizing the distance between these two distributions, you train the network output something as close as posible to the true labels.\n",
    "\n",
    "## Compiling the model"
   ]
  },
  {
   "cell_type": "code",
   "execution_count": 15,
   "metadata": {},
   "outputs": [],
   "source": [
    "model.compile(optimizer='rmsprop', loss='categorical_crossentropy', metrics=['accuracy'])"
   ]
  },
  {
   "cell_type": "markdown",
   "metadata": {},
   "source": [
    "## Validating your approach"
   ]
  },
  {
   "cell_type": "code",
   "execution_count": 16,
   "metadata": {},
   "outputs": [],
   "source": [
    "x_val = x_train[:1000] # Set aside first 10,000 samples for validation\n",
    "partial_x_train = x_train[1000:]\n",
    "\n",
    "y_val = one_hot_train_labels[:1000]\n",
    "partial_y_train = one_hot_train_labels[1000:]"
   ]
  },
  {
   "cell_type": "markdown",
   "metadata": {},
   "source": [
    "## Training"
   ]
  },
  {
   "cell_type": "code",
   "execution_count": 17,
   "metadata": {},
   "outputs": [
    {
     "name": "stdout",
     "output_type": "stream",
     "text": [
      "Epoch 1/20\n",
      "16/16 [==============================] - 1s 41ms/step - loss: 3.1604 - accuracy: 0.4161 - val_loss: 1.7519 - val_accuracy: 0.6240\n",
      "Epoch 2/20\n",
      "16/16 [==============================] - 0s 19ms/step - loss: 1.5276 - accuracy: 0.6776 - val_loss: 1.3025 - val_accuracy: 0.7200\n",
      "Epoch 3/20\n",
      "16/16 [==============================] - 0s 17ms/step - loss: 1.1083 - accuracy: 0.7693 - val_loss: 1.1270 - val_accuracy: 0.7620\n",
      "Epoch 4/20\n",
      "16/16 [==============================] - 0s 19ms/step - loss: 0.8430 - accuracy: 0.8289 - val_loss: 1.0397 - val_accuracy: 0.7810\n",
      "Epoch 5/20\n",
      "16/16 [==============================] - 0s 23ms/step - loss: 0.6730 - accuracy: 0.8654 - val_loss: 0.9748 - val_accuracy: 0.7900\n",
      "Epoch 6/20\n",
      "16/16 [==============================] - 0s 20ms/step - loss: 0.5411 - accuracy: 0.8897 - val_loss: 0.9406 - val_accuracy: 0.8100\n",
      "Epoch 7/20\n",
      "16/16 [==============================] - 0s 20ms/step - loss: 0.4351 - accuracy: 0.9158 - val_loss: 0.9061 - val_accuracy: 0.8190\n",
      "Epoch 8/20\n",
      "16/16 [==============================] - 0s 21ms/step - loss: 0.3591 - accuracy: 0.9239 - val_loss: 0.9326 - val_accuracy: 0.8030\n",
      "Epoch 9/20\n",
      "16/16 [==============================] - 0s 22ms/step - loss: 0.2932 - accuracy: 0.9391 - val_loss: 0.9240 - val_accuracy: 0.8060\n",
      "Epoch 10/20\n",
      "16/16 [==============================] - 0s 22ms/step - loss: 0.2470 - accuracy: 0.9450 - val_loss: 0.9319 - val_accuracy: 0.8150\n",
      "Epoch 11/20\n",
      "16/16 [==============================] - 0s 19ms/step - loss: 0.2014 - accuracy: 0.9521 - val_loss: 0.9411 - val_accuracy: 0.8130\n",
      "Epoch 12/20\n",
      "16/16 [==============================] - 0s 22ms/step - loss: 0.1870 - accuracy: 0.9533 - val_loss: 0.9438 - val_accuracy: 0.8220\n",
      "Epoch 13/20\n",
      "16/16 [==============================] - 0s 21ms/step - loss: 0.1651 - accuracy: 0.9546 - val_loss: 0.9755 - val_accuracy: 0.8210\n",
      "Epoch 14/20\n",
      "16/16 [==============================] - 0s 20ms/step - loss: 0.1499 - accuracy: 0.9578 - val_loss: 0.9865 - val_accuracy: 0.8120\n",
      "Epoch 15/20\n",
      "16/16 [==============================] - 0s 19ms/step - loss: 0.1351 - accuracy: 0.9561 - val_loss: 1.1698 - val_accuracy: 0.7780\n",
      "Epoch 16/20\n",
      "16/16 [==============================] - 0s 20ms/step - loss: 0.1347 - accuracy: 0.9578 - val_loss: 1.0064 - val_accuracy: 0.8150\n",
      "Epoch 17/20\n",
      "16/16 [==============================] - 0s 20ms/step - loss: 0.1131 - accuracy: 0.9653 - val_loss: 1.0694 - val_accuracy: 0.8010\n",
      "Epoch 18/20\n",
      "16/16 [==============================] - 0s 21ms/step - loss: 0.1143 - accuracy: 0.9601 - val_loss: 1.0758 - val_accuracy: 0.8200\n",
      "Epoch 19/20\n",
      "16/16 [==============================] - 0s 21ms/step - loss: 0.1065 - accuracy: 0.9611 - val_loss: 1.1060 - val_accuracy: 0.8090\n",
      "Epoch 20/20\n",
      "16/16 [==============================] - 0s 19ms/step - loss: 0.0988 - accuracy: 0.9640 - val_loss: 1.1981 - val_accuracy: 0.7860\n"
     ]
    }
   ],
   "source": [
    "history = model.fit(\n",
    "    partial_x_train,\n",
    "    partial_y_train,\n",
    "    epochs=20,\n",
    "    batch_size=512,\n",
    "    validation_data=(x_val, y_val))"
   ]
  },
  {
   "cell_type": "markdown",
   "metadata": {},
   "source": [
    "## Visualize Training and Validation Loss"
   ]
  },
  {
   "cell_type": "code",
   "execution_count": 18,
   "metadata": {},
   "outputs": [
    {
     "data": {
      "image/png": "[encoded data removed]",
      "text/plain": [
       "<Figure size 432x288 with 1 Axes>"
      ]
     },
     "metadata": {
      "needs_background": "light"
     },
     "output_type": "display_data"
    }
   ],
   "source": [
    "import matplotlib.pyplot as plt\n",
    "\n",
    "loss = history.history['loss']\n",
    "val_loss = history.history['val_loss']\n",
    "\n",
    "epochs = range(1, len(loss)+1)\n",
    "\n",
    "plt.plot(epochs, loss, 'b.', label='Training loss')\n",
    "plt.plot(epochs, val_loss, 'k', label='Validation loss')\n",
    "\n",
    "plt.title('Training and validation loss')\n",
    "plt.xlabel('Epochs')\n",
    "plt.ylabel('Loss')\n",
    "plt.legend()\n",
    "\n",
    "plt.show()"
   ]
  },
  {
   "cell_type": "code",
   "execution_count": 19,
   "metadata": {},
   "outputs": [
    {
     "data": {
      "image/png": "[encoded data removed]",
      "text/plain": [
       "<Figure size 432x288 with 1 Axes>"
      ]
     },
     "metadata": {
      "needs_background": "light"
     },
     "output_type": "display_data"
    }
   ],
   "source": [
    "plt.clf()\n",
    "\n",
    "acc = history.history['accuracy']\n",
    "val_acc = history.history['val_accuracy']\n",
    "\n",
    "epochs = range(1, len(loss)+1)\n",
    "\n",
    "plt.plot(epochs, acc, 'b.', label='Training acc')\n",
    "plt.plot(epochs, val_acc, 'k', label='Validation acc')\n",
    "\n",
    "plt.title('Training and validation Accuracy')\n",
    "plt.xlabel('Epochs')\n",
    "plt.ylabel('Accuracy')\n",
    "plt.legend()\n",
    "\n",
    "plt.show()"
   ]
  },
  {
   "cell_type": "markdown",
   "metadata": {},
   "source": [
    "We see that the network begins to overfit after nine epochs."
   ]
  },
  {
   "cell_type": "markdown",
   "metadata": {},
   "source": [
    "### Retraining from scratch"
   ]
  },
  {
   "cell_type": "code",
   "execution_count": 20,
   "metadata": {},
   "outputs": [
    {
     "name": "stdout",
     "output_type": "stream",
     "text": [
      "Epoch 1/9\n",
      "16/16 [==============================] - 1s 26ms/step - loss: 3.0341 - accuracy: 0.3914 - val_loss: 1.7134 - val_accuracy: 0.6360\n",
      "Epoch 2/9\n",
      "16/16 [==============================] - 0s 19ms/step - loss: 1.4798 - accuracy: 0.6962 - val_loss: 1.2994 - val_accuracy: 0.7110\n",
      "Epoch 3/9\n",
      "16/16 [==============================] - 0s 19ms/step - loss: 1.0838 - accuracy: 0.7708 - val_loss: 1.1444 - val_accuracy: 0.7610\n",
      "Epoch 4/9\n",
      "16/16 [==============================] - 0s 19ms/step - loss: 0.8454 - accuracy: 0.8193 - val_loss: 1.0391 - val_accuracy: 0.7830\n",
      "Epoch 5/9\n",
      "16/16 [==============================] - 0s 21ms/step - loss: 0.6747 - accuracy: 0.8607 - val_loss: 0.9653 - val_accuracy: 0.7980\n",
      "Epoch 6/9\n",
      "16/16 [==============================] - 0s 19ms/step - loss: 0.5299 - accuracy: 0.8931 - val_loss: 0.9480 - val_accuracy: 0.7980\n",
      "Epoch 7/9\n",
      "16/16 [==============================] - 0s 20ms/step - loss: 0.4376 - accuracy: 0.9127 - val_loss: 0.8996 - val_accuracy: 0.8180\n",
      "Epoch 8/9\n",
      "16/16 [==============================] - 0s 20ms/step - loss: 0.3414 - accuracy: 0.9305 - val_loss: 0.8746 - val_accuracy: 0.8230\n",
      "Epoch 9/9\n",
      "16/16 [==============================] - 0s 17ms/step - loss: 0.2749 - accuracy: 0.9431 - val_loss: 0.8768 - val_accuracy: 0.8220\n",
      "71/71 [==============================] - 0s 1ms/step - loss: 0.9680 - accuracy: 0.7885\n"
     ]
    }
   ],
   "source": [
    "model = models.Sequential()\n",
    "model.add(layers.Dense(64, activation='relu', input_shape=(10000,)))\n",
    "model.add(layers.Dense(64, activation='relu'))\n",
    "model.add(layers.Dense(46, activation='softmax'))\n",
    "\n",
    "model.compile(optimizer='rmsprop', loss='categorical_crossentropy', metrics=['accuracy'])\n",
    "\n",
    "history = model.fit(\n",
    "    partial_x_train,\n",
    "    partial_y_train,\n",
    "    epochs=9,\n",
    "    batch_size=512,\n",
    "    validation_data=(x_val, y_val))\n",
    "\n",
    "results = model.evaluate(x_test, one_hot_test_labels)"
   ]
  },
  {
   "cell_type": "code",
   "execution_count": 21,
   "metadata": {},
   "outputs": [
    {
     "data": {
      "text/plain": [
       "[0.9679708480834961, 0.7885128855705261]"
      ]
     },
     "execution_count": 21,
     "metadata": {},
     "output_type": "execute_result"
    }
   ],
   "source": [
    "results"
   ]
  },
  {
   "cell_type": "markdown",
   "metadata": {},
   "source": [
    "The accuracy of this network is almost 80%. This is significant, considering that selecting a classifier at random would to about 19% accuracy.  \n",
    "We can demonstrate this below."
   ]
  },
  {
   "cell_type": "code",
   "execution_count": 22,
   "metadata": {},
   "outputs": [
    {
     "data": {
      "text/plain": [
       "0.182546749777382"
      ]
     },
     "execution_count": 22,
     "metadata": {},
     "output_type": "execute_result"
    }
   ],
   "source": [
    "import copy\n",
    "\n",
    "test_labels_copy = copy.copy(test_labels)\n",
    "\n",
    "np.random.shuffle(test_labels_copy)\n",
    "\n",
    "hits_array = np.array(test_labels) == np.array(test_labels_copy)\n",
    "\n",
    "float(np.sum(hits_array)) / len(test_labels)"
   ]
  },
  {
   "cell_type": "markdown",
   "metadata": {},
   "source": [
    "## Predictions\n",
    "Let's generate topic predictons for all of the test data."
   ]
  },
  {
   "cell_type": "code",
   "execution_count": 23,
   "metadata": {},
   "outputs": [],
   "source": [
    "predictions = model.predict(x_test)"
   ]
  },
  {
   "cell_type": "markdown",
   "metadata": {},
   "source": [
    "Each entry in the resulting vector is of length 46"
   ]
  },
  {
   "cell_type": "code",
   "execution_count": 24,
   "metadata": {},
   "outputs": [
    {
     "data": {
      "text/plain": [
       "(46,)"
      ]
     },
     "execution_count": 24,
     "metadata": {},
     "output_type": "execute_result"
    }
   ],
   "source": [
    "predictions[0].shape"
   ]
  },
  {
   "cell_type": "code",
   "execution_count": 25,
   "metadata": {},
   "outputs": [
    {
     "data": {
      "text/plain": [
       "1.0000001"
      ]
     },
     "execution_count": 25,
     "metadata": {},
     "output_type": "execute_result"
    }
   ],
   "source": [
    "np.sum(predictions[0])"
   ]
  },
  {
   "cell_type": "code",
   "execution_count": 26,
   "metadata": {},
   "outputs": [
    {
     "data": {
      "text/plain": [
       "3"
      ]
     },
     "execution_count": 26,
     "metadata": {},
     "output_type": "execute_result"
    }
   ],
   "source": [
    "np.argmax(predictions[0]) # This will display the value with the highest probability"
   ]
  },
  {
   "cell_type": "markdown",
   "metadata": {},
   "source": [
    "## Another way to handle labels and loss\n",
    "In the previous example, it was mentioned that another wayt to ecode the labels would be to cast them as an integer tensor. We can do this as follows."
   ]
  },
  {
   "cell_type": "code",
   "execution_count": 27,
   "metadata": {},
   "outputs": [],
   "source": [
    "y_train = np.array(train_labels)\n",
    "y_test = np.array(test_labels)"
   ]
  },
  {
   "cell_type": "markdown",
   "metadata": {},
   "source": [
    "The only thing this approach would change is the choice of the loss function. The loss function used above, `categorical_corssentropy`, expects the labels to follow a categorical encoding. Fortunately they already do in this dataset, as each integer represents some category.\n",
    "\n",
    "With integer labels, you should compile your model using `sparse_categorical_crossentropy` for the loss function:"
   ]
  },
  {
   "cell_type": "code",
   "execution_count": 28,
   "metadata": {},
   "outputs": [],
   "source": [
    "model.compile(optimizer='rmsprop', loss='sparse_categorical_crossentropy', metrics=['acc'])"
   ]
  },
  {
   "cell_type": "markdown",
   "metadata": {},
   "source": [
    "## The importance of having sufficiently large intermediate layers\n",
    "We mentioned earlier that because the final outputs are 46-dimensional, you should avoid intermediate layers with many fewer than 46 hidden units. Let's see what happens when you introduce an information bottleneck by having intermediate layers that are significantly less than 46-dimensional: for example, 4-dimensional."
   ]
  },
  {
   "cell_type": "code",
   "execution_count": 29,
   "metadata": {},
   "outputs": [
    {
     "name": "stdout",
     "output_type": "stream",
     "text": [
      "Epoch 1/20\n",
      "63/63 [==============================] - 1s 9ms/step - loss: 3.6349 - accuracy: 0.0278 - val_loss: 3.1720 - val_accuracy: 0.1990\n",
      "Epoch 2/20\n",
      "63/63 [==============================] - 0s 7ms/step - loss: 2.9468 - accuracy: 0.2583 - val_loss: 2.4741 - val_accuracy: 0.3030\n",
      "Epoch 3/20\n",
      "63/63 [==============================] - 0s 7ms/step - loss: 2.1618 - accuracy: 0.3360 - val_loss: 1.7666 - val_accuracy: 0.6110\n",
      "Epoch 4/20\n",
      "63/63 [==============================] - 0s 7ms/step - loss: 1.4736 - accuracy: 0.6439 - val_loss: 1.4938 - val_accuracy: 0.6430\n",
      "Epoch 5/20\n",
      "63/63 [==============================] - 0s 7ms/step - loss: 1.1985 - accuracy: 0.6855 - val_loss: 1.4584 - val_accuracy: 0.6640\n",
      "Epoch 6/20\n",
      "63/63 [==============================] - 0s 7ms/step - loss: 1.1245 - accuracy: 0.7090 - val_loss: 1.4823 - val_accuracy: 0.6730\n",
      "Epoch 7/20\n",
      "63/63 [==============================] - 1s 9ms/step - loss: 1.0361 - accuracy: 0.7288 - val_loss: 1.4455 - val_accuracy: 0.6680\n",
      "Epoch 8/20\n",
      "63/63 [==============================] - 0s 8ms/step - loss: 0.9402 - accuracy: 0.7529 - val_loss: 1.4551 - val_accuracy: 0.6750\n",
      "Epoch 9/20\n",
      "63/63 [==============================] - 1s 8ms/step - loss: 0.9126 - accuracy: 0.7606 - val_loss: 1.5166 - val_accuracy: 0.6780\n",
      "Epoch 10/20\n",
      "63/63 [==============================] - 0s 8ms/step - loss: 0.8799 - accuracy: 0.7567 - val_loss: 1.5625 - val_accuracy: 0.6730\n",
      "Epoch 11/20\n",
      "63/63 [==============================] - 0s 8ms/step - loss: 0.8087 - accuracy: 0.7756 - val_loss: 1.5611 - val_accuracy: 0.6820\n",
      "Epoch 12/20\n",
      "63/63 [==============================] - 1s 8ms/step - loss: 0.7809 - accuracy: 0.7868 - val_loss: 1.6155 - val_accuracy: 0.6780\n",
      "Epoch 13/20\n",
      "63/63 [==============================] - 0s 8ms/step - loss: 0.7615 - accuracy: 0.7912 - val_loss: 1.6890 - val_accuracy: 0.6680\n",
      "Epoch 14/20\n",
      "63/63 [==============================] - 0s 8ms/step - loss: 0.7188 - accuracy: 0.7967 - val_loss: 1.7531 - val_accuracy: 0.6740\n",
      "Epoch 15/20\n",
      "63/63 [==============================] - 1s 8ms/step - loss: 0.7012 - accuracy: 0.7959 - val_loss: 1.7723 - val_accuracy: 0.6710\n",
      "Epoch 16/20\n",
      "63/63 [==============================] - 1s 9ms/step - loss: 0.6733 - accuracy: 0.8031 - val_loss: 1.8805 - val_accuracy: 0.6620\n",
      "Epoch 17/20\n",
      "63/63 [==============================] - 1s 9ms/step - loss: 0.6615 - accuracy: 0.8072 - val_loss: 1.9830 - val_accuracy: 0.6720\n",
      "Epoch 18/20\n",
      "63/63 [==============================] - 1s 8ms/step - loss: 0.6195 - accuracy: 0.8183 - val_loss: 2.0128 - val_accuracy: 0.6630\n",
      "Epoch 19/20\n",
      "63/63 [==============================] - 1s 9ms/step - loss: 0.6181 - accuracy: 0.8105 - val_loss: 2.0781 - val_accuracy: 0.6670\n",
      "Epoch 20/20\n",
      "63/63 [==============================] - 1s 9ms/step - loss: 0.6047 - accuracy: 0.8212 - val_loss: 2.2316 - val_accuracy: 0.6640\n",
      "71/71 [==============================] - 0s 2ms/step - loss: 2.3818 - accuracy: 0.6630\n"
     ]
    }
   ],
   "source": [
    "model = models.Sequential()\n",
    "model.add(layers.Dense(64, activation='relu', input_shape=(10000,)))\n",
    "model.add(layers.Dense(4, activation='relu'))\n",
    "model.add(layers.Dense(46, activation='softmax'))\n",
    "\n",
    "model.compile(optimizer='rmsprop', loss='categorical_crossentropy', metrics=['accuracy'])\n",
    "\n",
    "history = model.fit(\n",
    "    partial_x_train,\n",
    "    partial_y_train,\n",
    "    epochs=20,\n",
    "    batch_size=128,\n",
    "    validation_data=(x_val, y_val))\n",
    "\n",
    "results = model.evaluate(x_test, one_hot_test_labels)"
   ]
  },
  {
   "cell_type": "markdown",
   "metadata": {},
   "source": [
    "Accuracy has now dropped to about 65% from 79% in our model with 64-64-46 hidden units.\n",
    "\n",
    "This drop is mostly due to the fact that you're trying to compress a lot of information (enough information to recover the separation hyperplanes of 46 classes) into an intermediate space that is too low-dimensional. **The network is able to cram *most* of the necessary information into these four-dimensional representations, but not all of it.**\n",
    "\n",
    "Generally, you won't use more than 2 hidden layers. The input layer should have one hidden unit for each feature of the data, and the hidden layer should have the mean between the input layer and the output layer. This should give a good compromise between overfitting and compression for most cases. Let's do that now, and start by looking at the dimensionality of the input vectors."
   ]
  },
  {
   "cell_type": "code",
   "execution_count": 30,
   "metadata": {},
   "outputs": [
    {
     "data": {
      "text/plain": [
       "31"
      ]
     },
     "execution_count": 30,
     "metadata": {},
     "output_type": "execute_result"
    }
   ],
   "source": [
    "len(train_data[10])"
   ]
  },
  {
   "cell_type": "code",
   "execution_count": 31,
   "metadata": {},
   "outputs": [
    {
     "name": "stdout",
     "output_type": "stream",
     "text": [
      "Epoch 1/12\n",
      "63/63 [==============================] - 1s 8ms/step - loss: 2.7178 - accuracy: 0.4980 - val_loss: 1.4673 - val_accuracy: 0.6720\n",
      "Epoch 2/12\n",
      "63/63 [==============================] - 0s 6ms/step - loss: 1.3032 - accuracy: 0.7153 - val_loss: 1.2199 - val_accuracy: 0.7200\n",
      "Epoch 3/12\n",
      "63/63 [==============================] - 0s 6ms/step - loss: 0.9880 - accuracy: 0.7803 - val_loss: 1.0739 - val_accuracy: 0.7620\n",
      "Epoch 4/12\n",
      "63/63 [==============================] - 0s 6ms/step - loss: 0.7359 - accuracy: 0.8417 - val_loss: 0.9732 - val_accuracy: 0.7890\n",
      "Epoch 5/12\n",
      "63/63 [==============================] - 0s 5ms/step - loss: 0.5548 - accuracy: 0.8794 - val_loss: 0.9306 - val_accuracy: 0.8000\n",
      "Epoch 6/12\n",
      "63/63 [==============================] - 0s 5ms/step - loss: 0.4344 - accuracy: 0.9109 - val_loss: 0.9198 - val_accuracy: 0.8080\n",
      "Epoch 7/12\n",
      "63/63 [==============================] - 0s 5ms/step - loss: 0.3502 - accuracy: 0.9195 - val_loss: 0.9585 - val_accuracy: 0.8030\n",
      "Epoch 8/12\n",
      "63/63 [==============================] - 0s 5ms/step - loss: 0.2693 - accuracy: 0.9407 - val_loss: 0.9509 - val_accuracy: 0.8060\n",
      "Epoch 9/12\n",
      "63/63 [==============================] - 0s 5ms/step - loss: 0.2214 - accuracy: 0.9459 - val_loss: 0.9840 - val_accuracy: 0.8070\n",
      "Epoch 10/12\n",
      "63/63 [==============================] - 0s 5ms/step - loss: 0.1882 - accuracy: 0.9552 - val_loss: 0.9847 - val_accuracy: 0.8120\n",
      "Epoch 11/12\n",
      "63/63 [==============================] - 0s 5ms/step - loss: 0.1681 - accuracy: 0.9537 - val_loss: 1.0049 - val_accuracy: 0.8050\n",
      "Epoch 12/12\n",
      "63/63 [==============================] - 0s 5ms/step - loss: 0.1373 - accuracy: 0.9620 - val_loss: 1.0586 - val_accuracy: 0.8000\n",
      "71/71 [==============================] - 0s 1ms/step - loss: 1.2358 - accuracy: 0.7765\n"
     ]
    }
   ],
   "source": [
    "model = models.Sequential()\n",
    "model.add(layers.Dense(31, activation='relu', input_shape=(10000,)))\n",
    "model.add(layers.Dense(39, activation='relu'))\n",
    "model.add(layers.Dense(46, activation='softmax'))\n",
    "\n",
    "model.compile(optimizer='rmsprop', loss='categorical_crossentropy', metrics=['accuracy'])\n",
    "\n",
    "history = model.fit(\n",
    "    partial_x_train,\n",
    "    partial_y_train,\n",
    "    epochs=12,\n",
    "    batch_size=128,\n",
    "    validation_data=(x_val, y_val))\n",
    "\n",
    "results = model.evaluate(x_test, one_hot_test_labels)"
   ]
  },
  {
   "cell_type": "markdown",
   "metadata": {},
   "source": [
    "The resulting accuracy drop is only about 1%, which is much better than the network with hidden units 64-4-46, but it should be noted that there is still a drop from the network 64-64-46. This is because the output is of higher dimension than the number of features in this particular dataset. So it may be better in these situations to construct neural networks where the intermediate layers are of the same dimension as the output, for example 46-46-46:"
   ]
  },
  {
   "cell_type": "code",
   "execution_count": 32,
   "metadata": {},
   "outputs": [
    {
     "name": "stdout",
     "output_type": "stream",
     "text": [
      "Epoch 1/12\n",
      "63/63 [==============================] - 1s 8ms/step - loss: 2.6941 - accuracy: 0.4388 - val_loss: 1.3665 - val_accuracy: 0.6970\n",
      "Epoch 2/12\n",
      "63/63 [==============================] - 0s 6ms/step - loss: 1.1565 - accuracy: 0.7422 - val_loss: 1.0778 - val_accuracy: 0.7680\n",
      "Epoch 3/12\n",
      "63/63 [==============================] - 0s 6ms/step - loss: 0.8197 - accuracy: 0.8215 - val_loss: 0.9774 - val_accuracy: 0.7940\n",
      "Epoch 4/12\n",
      "63/63 [==============================] - 0s 6ms/step - loss: 0.5681 - accuracy: 0.8760 - val_loss: 0.9255 - val_accuracy: 0.8000\n",
      "Epoch 5/12\n",
      "63/63 [==============================] - 0s 6ms/step - loss: 0.4098 - accuracy: 0.9093 - val_loss: 0.9126 - val_accuracy: 0.8090\n",
      "Epoch 6/12\n",
      "63/63 [==============================] - 0s 6ms/step - loss: 0.3186 - accuracy: 0.9300 - val_loss: 0.9270 - val_accuracy: 0.8000\n",
      "Epoch 7/12\n",
      "63/63 [==============================] - 0s 6ms/step - loss: 0.2293 - accuracy: 0.9479 - val_loss: 0.9362 - val_accuracy: 0.8060\n",
      "Epoch 8/12\n",
      "63/63 [==============================] - 0s 6ms/step - loss: 0.2047 - accuracy: 0.9508 - val_loss: 0.9492 - val_accuracy: 0.8100\n",
      "Epoch 9/12\n",
      "63/63 [==============================] - 0s 6ms/step - loss: 0.1654 - accuracy: 0.9587 - val_loss: 1.0213 - val_accuracy: 0.8000\n",
      "Epoch 10/12\n",
      "63/63 [==============================] - 0s 6ms/step - loss: 0.1403 - accuracy: 0.9576 - val_loss: 1.0346 - val_accuracy: 0.8050\n",
      "Epoch 11/12\n",
      "63/63 [==============================] - 0s 6ms/step - loss: 0.1281 - accuracy: 0.9595 - val_loss: 1.0698 - val_accuracy: 0.8050\n",
      "Epoch 12/12\n",
      "63/63 [==============================] - 0s 6ms/step - loss: 0.1190 - accuracy: 0.9610 - val_loss: 1.1061 - val_accuracy: 0.8040\n",
      "71/71 [==============================] - 0s 1ms/step - loss: 1.2401 - accuracy: 0.7881\n"
     ]
    }
   ],
   "source": [
    "model = models.Sequential()\n",
    "model.add(layers.Dense(46, activation='relu', input_shape=(10000,)))\n",
    "model.add(layers.Dense(46, activation='relu'))\n",
    "model.add(layers.Dense(46, activation='softmax'))\n",
    "\n",
    "model.compile(optimizer='rmsprop', loss='categorical_crossentropy', metrics=['accuracy'])\n",
    "\n",
    "history = model.fit(\n",
    "    partial_x_train,\n",
    "    partial_y_train,\n",
    "    epochs=12,\n",
    "    batch_size=128,\n",
    "    validation_data=(x_val, y_val))\n",
    "\n",
    "results = model.evaluate(x_test, one_hot_test_labels)"
   ]
  }
 ],
 "metadata": {
  "kernelspec": {
   "display_name": "Python 3",
   "language": "python",
   "name": "python3"
  },
  "language_info": {
   "codemirror_mode": {
    "name": "ipython",
    "version": 3
   },
   "file_extension": ".py",
   "mimetype": "text/x-python",
   "name": "python",
   "nbconvert_exporter": "python",
   "pygments_lexer": "ipython3",
   "version": "3.8.5"
  }
 },
 "nbformat": 4,
 "nbformat_minor": 4
}
