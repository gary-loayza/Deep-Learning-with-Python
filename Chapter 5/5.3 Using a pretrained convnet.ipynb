{
 "cells": [
  {
   "cell_type": "markdown",
   "metadata": {},
   "source": [
    "A common and highly effective approach to deep learning on small image datasets is to use a pretrained network. A **pretrained network** is a saved network that was previously trained on a large dataset, typically on a large-scale image-classification task. If this original dataset is large enough and general enough, then the spatial hierarchy of features learned by the pretrained network can effectively act as a generic model of the visual world, and hence its features can prove useful for many different computer-vision problems, even though these new problems may involve completely different classes than those of the original task.\n",
    "\n",
    "For instance, you might train a network on ImageNet (where classes are mostly animals and everyday objects) and then repurpose this trained network for something as remote as identifying furniture items in images. In this case, let’s consider a large convnet trained on the ImageNet dataset (1.4 million labeled images and 1,000 different classes). ImageNet contains many animal classes, including different species of cats and dogs, and you can thus expect to perform well on the dogs-versus-cats classification problem.\n",
    "\n",
    "We’ll use the VGG16 architecture, developed by Karen Simonyan and Andrew Zisserman in 2014; it’s a simple and widely used convnet architecture for ImageNet. Its architecture is similar to what we’re already familiar with and is easy to understand without introducing any new concepts.\n",
    "\n",
    "There are two ways to use a pretrained network: **feature extraction** and **fine-tuning**.\n",
    "\n",
    "# Feature Extraction\n",
    "Feature extraction consists of using the representations learned by a previous network to extract interesting features from new samples. These features are then run through a new classifier, which is trained from scratch.\n",
    "\n",
    "Convnets used for image classification comprise two parts: they start with a series of pooling and convolution layers, and they end with a densely connected classifier. The first part is called the **convolutional base** of the model. In the case of convnets, **feature extraction consists of taking the convolutional base of a previously trained network, running the new data through it, and training a new classifier on top of the output.**\n",
    "\n",
    "Why only reuse the convolutional base? the representations learned by the convolutional base are likely to be more generic and therefore more reusable: the feature maps of a convnet are presence maps of generic concepts over a picture, which is likely to be useful regardless of the computer-vision problem at hand. But **the representations learned by the classifier will necessarily be specific to the set of classes on which the model was trained**—they will only contain information about the presence probability of this or that class in the entire picture.\n",
    "\n",
    "Additionally, representations found in densely connected layers no longer contain any information about *where* objects are located in the input image: **these layers get rid of the notion of space**, whereas the object location is still described by convolutional feature maps.\n",
    "\n",
    "Note that the level of generality (and therefore reusability) of the representations extracted by specific convolution layers depends on the depth of the layer in the model. **Layers that come earlier in the model extract local, highly generic feature maps (such as visual edges, colors, and textures)**, whereas layers that are higher up extract more-abstract concepts (such as “cat ear” or “dog eye”). **So if your new dataset differs a lot from the dataset on which the original model was trained, you may be better off using only the first few layers of the model to do feature extraction**, rather than using the entire convolutional base.\n",
    "\n",
    "In this case, because the ImageNet class set contains multiple dog and cat classes, it’s likely to be beneficial to reuse the information contained in the densely connected layers of the original model. **But we’ll choose not to, in order to cover the more general case where the class set of the new problem doesn’t overlap the class set of the original model.**\n",
    "\n",
    "Let’s put this in practice by using the convolutional base of the VGG16 network, trained on ImageNet, to extract interesting features from cat and dog images, and then train a dogs-versus-cats classifier on top of these features.\n"
   ]
  },
  {
   "cell_type": "code",
   "execution_count": 1,
   "metadata": {},
   "outputs": [],
   "source": [
    "from tensorflow.keras.applications import VGG16\n",
    "\n",
    "conv_base = VGG16(weights='imagenet',\n",
    "                  include_top=False,\n",
    "                  input_shape=(150, 150, 3))"
   ]
  },
  {
   "cell_type": "markdown",
   "metadata": {},
   "source": [
    "You pass three arguments to the constructor:\n",
    "\n",
    "- `weights` specifies the weight checkpoint from which to initialize the model.\n",
    "- `include_top`  refers to including (or not) the densely connected classifier on top of the network. By default, this densely connected classifier corresponds to the 1,000 classes from ImageNet. We only need cats and dogs, therefore don't include it.\n",
    "- `input_shape` is the shape of the image tensors that you’ll feed to the network."
   ]
  },
  {
   "cell_type": "code",
   "execution_count": 2,
   "metadata": {},
   "outputs": [
    {
     "name": "stdout",
     "output_type": "stream",
     "text": [
      "Model: \"vgg16\"\n",
      "_________________________________________________________________\n",
      "Layer (type)                 Output Shape              Param #   \n",
      "=================================================================\n",
      "input_1 (InputLayer)         [(None, 150, 150, 3)]     0         \n",
      "_________________________________________________________________\n",
      "block1_conv1 (Conv2D)        (None, 150, 150, 64)      1792      \n",
      "_________________________________________________________________\n",
      "block1_conv2 (Conv2D)        (None, 150, 150, 64)      36928     \n",
      "_________________________________________________________________\n",
      "block1_pool (MaxPooling2D)   (None, 75, 75, 64)        0         \n",
      "_________________________________________________________________\n",
      "block2_conv1 (Conv2D)        (None, 75, 75, 128)       73856     \n",
      "_________________________________________________________________\n",
      "block2_conv2 (Conv2D)        (None, 75, 75, 128)       147584    \n",
      "_________________________________________________________________\n",
      "block2_pool (MaxPooling2D)   (None, 37, 37, 128)       0         \n",
      "_________________________________________________________________\n",
      "block3_conv1 (Conv2D)        (None, 37, 37, 256)       295168    \n",
      "_________________________________________________________________\n",
      "block3_conv2 (Conv2D)        (None, 37, 37, 256)       590080    \n",
      "_________________________________________________________________\n",
      "block3_conv3 (Conv2D)        (None, 37, 37, 256)       590080    \n",
      "_________________________________________________________________\n",
      "block3_pool (MaxPooling2D)   (None, 18, 18, 256)       0         \n",
      "_________________________________________________________________\n",
      "block4_conv1 (Conv2D)        (None, 18, 18, 512)       1180160   \n",
      "_________________________________________________________________\n",
      "block4_conv2 (Conv2D)        (None, 18, 18, 512)       2359808   \n",
      "_________________________________________________________________\n",
      "block4_conv3 (Conv2D)        (None, 18, 18, 512)       2359808   \n",
      "_________________________________________________________________\n",
      "block4_pool (MaxPooling2D)   (None, 9, 9, 512)         0         \n",
      "_________________________________________________________________\n",
      "block5_conv1 (Conv2D)        (None, 9, 9, 512)         2359808   \n",
      "_________________________________________________________________\n",
      "block5_conv2 (Conv2D)        (None, 9, 9, 512)         2359808   \n",
      "_________________________________________________________________\n",
      "block5_conv3 (Conv2D)        (None, 9, 9, 512)         2359808   \n",
      "_________________________________________________________________\n",
      "block5_pool (MaxPooling2D)   (None, 4, 4, 512)         0         \n",
      "=================================================================\n",
      "Total params: 14,714,688\n",
      "Trainable params: 14,714,688\n",
      "Non-trainable params: 0\n",
      "_________________________________________________________________\n"
     ]
    }
   ],
   "source": [
    "conv_base.summary()"
   ]
  },
  {
   "cell_type": "markdown",
   "metadata": {},
   "source": [
    "The final feature map has shape `(4, 4, 512)`. That’s the feature on top of which you’ll stick a densely connected classifier.\n",
    "\n",
    "At this point, there are two ways you could proceed:\n",
    "\n",
    "1. Running the convolutional base over your dataset, recording its output to a Numpy array on disk, and then using this data as input to a standalone, densely connected classifier. **This solution is fast and cheap to run**, because it only requires running the convolutional base once for every input image, and the convolutional base is by far the most expensive part of the pipeline. But for the same reason, this technique won’t allow you to use data augmentation.\n",
    "2. Extending the model you have (`conv_base`) by adding `Dense` layers on top, and running the whole thing end to end on the input data. This will allow you to use data augmentation, because every input image goes through the convolutional base every time it’s seen by the model. But for the same reason, **this technique is far more expensive** than the first.\n",
    "\n",
    "We’ll cover both techniques. Let’s walk through the code required to set up the first one: recording the output of `conv_base` on your data and using these outputs as inputs to a new model.\n",
    "\n",
    "### Fast feature extraction without data augmentation\n",
    "We’ll start by running instances of the previously introduced `ImageDataGenerator` to extract images as Numpy arrays as well as their labels. **We’ll extract features from these images by calling the** `predict` **method of the** `conv_base` **model.**"
   ]
  },
  {
   "cell_type": "code",
   "execution_count": 3,
   "metadata": {},
   "outputs": [
    {
     "name": "stdout",
     "output_type": "stream",
     "text": [
      "Found 2000 images belonging to 2 classes.\n",
      "Found 1000 images belonging to 2 classes.\n",
      "Found 1000 images belonging to 2 classes.\n"
     ]
    }
   ],
   "source": [
    "import os\n",
    "import numpy as np\n",
    "from tensorflow.keras.preprocessing.image import ImageDataGenerator\n",
    "\n",
    "base_dir = './data/dogs-vs-cats/'\n",
    "train_dir = os.path.join(base_dir, 'train')\n",
    "validation_dir = os.path.join(base_dir, 'validation')\n",
    "test_dir = os.path.join(base_dir, 'test')\n",
    "\n",
    "datagen = ImageDataGenerator(rescale=1./255)\n",
    "batch_size = 20\n",
    "\n",
    "def extract_features(directory, sample_count):\n",
    "    features = np.zeros(shape=(sample_count, 4, 4, 512))\n",
    "    labels = np.zeros(shape=(sample_count))\n",
    "    generator = datagen.flow_from_directory(\n",
    "        directory,\n",
    "        target_size=(150, 150),\n",
    "        batch_size=batch_size,\n",
    "        class_mode='binary')\n",
    "    i = 0\n",
    "    for inputs_batch, labels_batch in generator:\n",
    "        # Store individual batch results from .predict() into list\n",
    "        features_batch = conv_base.predict(inputs_batch)\n",
    "        features[i * batch_size : (i + 1) * batch_size] = features_batch\n",
    "        labels[i * batch_size : (i + 1) * batch_size] = labels_batch\n",
    "        i += 1\n",
    "        if i * batch_size >= sample_count:\n",
    "            break\n",
    "    return features, labels\n",
    "\n",
    "train_features, train_labels = extract_features(train_dir, 2000)\n",
    "validation_features, validation_labels = extract_features(validation_dir, 1000)\n",
    "test_features, test_labels = extract_features(test_dir, 1000)"
   ]
  },
  {
   "cell_type": "markdown",
   "metadata": {},
   "source": [
    "The extracted features are currently of shape `(samples, 4, 4, 512)`. We’ll feed them to a densely connected classifier, so first we must flatten them to `(samples, 8192)`:"
   ]
  },
  {
   "cell_type": "code",
   "execution_count": 4,
   "metadata": {},
   "outputs": [],
   "source": [
    "train_features = np.reshape(train_features, (2000, 4 * 4 * 512))\n",
    "validation_features = np.reshape(validation_features, (1000, 4 * 4 * 512))\n",
    "test_features = np.reshape(test_features, (1000, 4 * 4 * 512))"
   ]
  },
  {
   "cell_type": "markdown",
   "metadata": {},
   "source": [
    "At this point, we can define our densely connected classifier (note the use of drop-out for regularization) and train it on the data and labels that we just recorded."
   ]
  },
  {
   "cell_type": "code",
   "execution_count": 5,
   "metadata": {
    "scrolled": true
   },
   "outputs": [
    {
     "name": "stderr",
     "output_type": "stream",
     "text": [
      "/home/gary/.cache/pypoetry/virtualenvs/deep-learning-with-python-qnB20RqU-py3.8/lib/python3.8/site-packages/tensorflow/python/keras/optimizer_v2/optimizer_v2.py:374: UserWarning: The `lr` argument is deprecated, use `learning_rate` instead.\n",
      "  warnings.warn(\n"
     ]
    },
    {
     "name": "stdout",
     "output_type": "stream",
     "text": [
      "Epoch 1/30\n",
      "100/100 [==============================] - 1s 5ms/step - loss: 0.5931 - acc: 0.6910 - val_loss: 0.4525 - val_acc: 0.8240\n",
      "Epoch 2/30\n",
      "100/100 [==============================] - 0s 4ms/step - loss: 0.4232 - acc: 0.8150 - val_loss: 0.3637 - val_acc: 0.8560\n",
      "Epoch 3/30\n",
      "100/100 [==============================] - 0s 4ms/step - loss: 0.3535 - acc: 0.8480 - val_loss: 0.3327 - val_acc: 0.8550\n",
      "Epoch 4/30\n",
      "100/100 [==============================] - 0s 4ms/step - loss: 0.3193 - acc: 0.8705 - val_loss: 0.3012 - val_acc: 0.8840\n",
      "Epoch 5/30\n",
      "100/100 [==============================] - 0s 4ms/step - loss: 0.2791 - acc: 0.8885 - val_loss: 0.2795 - val_acc: 0.8940\n",
      "Epoch 6/30\n",
      "100/100 [==============================] - 0s 4ms/step - loss: 0.2587 - acc: 0.9020 - val_loss: 0.2688 - val_acc: 0.8960\n",
      "Epoch 7/30\n",
      "100/100 [==============================] - 0s 4ms/step - loss: 0.2383 - acc: 0.9060 - val_loss: 0.2684 - val_acc: 0.8910\n",
      "Epoch 8/30\n",
      "100/100 [==============================] - 0s 4ms/step - loss: 0.2204 - acc: 0.9165 - val_loss: 0.2586 - val_acc: 0.8970\n",
      "Epoch 9/30\n",
      "100/100 [==============================] - 0s 4ms/step - loss: 0.2257 - acc: 0.9120 - val_loss: 0.2566 - val_acc: 0.8980\n",
      "Epoch 10/30\n",
      "100/100 [==============================] - 0s 4ms/step - loss: 0.1982 - acc: 0.9255 - val_loss: 0.2474 - val_acc: 0.9050\n",
      "Epoch 11/30\n",
      "100/100 [==============================] - 0s 4ms/step - loss: 0.1902 - acc: 0.9305 - val_loss: 0.2472 - val_acc: 0.9010\n",
      "Epoch 12/30\n",
      "100/100 [==============================] - 0s 4ms/step - loss: 0.1856 - acc: 0.9390 - val_loss: 0.2427 - val_acc: 0.9030\n",
      "Epoch 13/30\n",
      "100/100 [==============================] - 0s 4ms/step - loss: 0.1767 - acc: 0.9365 - val_loss: 0.2390 - val_acc: 0.9020\n",
      "Epoch 14/30\n",
      "100/100 [==============================] - 0s 4ms/step - loss: 0.1698 - acc: 0.9375 - val_loss: 0.2391 - val_acc: 0.9010\n",
      "Epoch 15/30\n",
      "100/100 [==============================] - 0s 4ms/step - loss: 0.1619 - acc: 0.9440 - val_loss: 0.2363 - val_acc: 0.9020\n",
      "Epoch 16/30\n",
      "100/100 [==============================] - 0s 4ms/step - loss: 0.1490 - acc: 0.9505 - val_loss: 0.2370 - val_acc: 0.9020\n",
      "Epoch 17/30\n",
      "100/100 [==============================] - 0s 4ms/step - loss: 0.1512 - acc: 0.9470 - val_loss: 0.2382 - val_acc: 0.8990\n",
      "Epoch 18/30\n",
      "100/100 [==============================] - 0s 4ms/step - loss: 0.1373 - acc: 0.9535 - val_loss: 0.2374 - val_acc: 0.9010\n",
      "Epoch 19/30\n",
      "100/100 [==============================] - 0s 4ms/step - loss: 0.1366 - acc: 0.9530 - val_loss: 0.2453 - val_acc: 0.8970\n",
      "Epoch 20/30\n",
      "100/100 [==============================] - 0s 4ms/step - loss: 0.1302 - acc: 0.9600 - val_loss: 0.2363 - val_acc: 0.8990\n",
      "Epoch 21/30\n",
      "100/100 [==============================] - 0s 4ms/step - loss: 0.1265 - acc: 0.9575 - val_loss: 0.2376 - val_acc: 0.8980\n",
      "Epoch 22/30\n",
      "100/100 [==============================] - 0s 4ms/step - loss: 0.1172 - acc: 0.9615 - val_loss: 0.2347 - val_acc: 0.9060\n",
      "Epoch 23/30\n",
      "100/100 [==============================] - 0s 4ms/step - loss: 0.1158 - acc: 0.9635 - val_loss: 0.2415 - val_acc: 0.9000\n",
      "Epoch 24/30\n",
      "100/100 [==============================] - 0s 4ms/step - loss: 0.1168 - acc: 0.9640 - val_loss: 0.2445 - val_acc: 0.9000\n",
      "Epoch 25/30\n",
      "100/100 [==============================] - 0s 4ms/step - loss: 0.1119 - acc: 0.9620 - val_loss: 0.2349 - val_acc: 0.9040\n",
      "Epoch 26/30\n",
      "100/100 [==============================] - 0s 4ms/step - loss: 0.1023 - acc: 0.9715 - val_loss: 0.2448 - val_acc: 0.9020\n",
      "Epoch 27/30\n",
      "100/100 [==============================] - 0s 4ms/step - loss: 0.1001 - acc: 0.9695 - val_loss: 0.2476 - val_acc: 0.9050\n",
      "Epoch 28/30\n",
      "100/100 [==============================] - 0s 4ms/step - loss: 0.0909 - acc: 0.9750 - val_loss: 0.2416 - val_acc: 0.9000\n",
      "Epoch 29/30\n",
      "100/100 [==============================] - 0s 4ms/step - loss: 0.0948 - acc: 0.9705 - val_loss: 0.2394 - val_acc: 0.9040\n",
      "Epoch 30/30\n",
      "100/100 [==============================] - 0s 4ms/step - loss: 0.0893 - acc: 0.9740 - val_loss: 0.2387 - val_acc: 0.9040\n"
     ]
    }
   ],
   "source": [
    "from tensorflow.keras import models\n",
    "from tensorflow.keras import layers\n",
    "from tensorflow.keras import optimizers\n",
    "\n",
    "model = models.Sequential()\n",
    "model.add(layers.Dense(256, activation='relu', input_dim=4 * 4 * 512))\n",
    "model.add(layers.Dropout(0.5))\n",
    "model.add(layers.Dense(1, activation='sigmoid'))\n",
    "\n",
    "model.compile(optimizer=optimizers.RMSprop(lr=2e-5),\n",
    "              loss='binary_crossentropy',\n",
    "              metrics=['acc'])\n",
    "\n",
    "history = model.fit(train_features, train_labels,\n",
    "                    epochs=30, batch_size=20,\n",
    "                    validation_data=(validation_features, validation_labels))"
   ]
  },
  {
   "cell_type": "markdown",
   "metadata": {},
   "source": [
    "Training is very fast, because you only have to deal with two `Dense` layers—an epoch takes less than one second even on CPU. Let’s look at the loss and accuracy curves during training."
   ]
  },
  {
   "cell_type": "code",
   "execution_count": 6,
   "metadata": {},
   "outputs": [
    {
     "data": {
      "image/png": "[encoded data removed]",
      "text/plain": [
       "<Figure size 432x288 with 1 Axes>"
      ]
     },
     "metadata": {
      "needs_background": "light"
     },
     "output_type": "display_data"
    },
    {
     "data": {
      "image/png": "[encoded data removed]",
      "text/plain": [
       "<Figure size 432x288 with 1 Axes>"
      ]
     },
     "metadata": {
      "needs_background": "light"
     },
     "output_type": "display_data"
    }
   ],
   "source": [
    "import matplotlib.pyplot as plt\n",
    "\n",
    "acc = history.history['acc']\n",
    "val_acc = history.history['val_acc']\n",
    "loss = history.history['loss']\n",
    "val_loss = history.history['val_loss']\n",
    "\n",
    "epochs = range(1, len(acc) + 1)\n",
    "\n",
    "plt.plot(epochs, acc, 'bo', label='Training acc')\n",
    "plt.plot(epochs, val_acc, 'b', label='Validation acc')\n",
    "plt.title('Training and validation accuracy')\n",
    "plt.legend()\n",
    "\n",
    "plt.figure()\n",
    "\n",
    "plt.plot(epochs, loss, 'bo', label='Training loss')\n",
    "plt.plot(epochs, val_loss, 'b', label='Validation loss')\n",
    "plt.title('Training and validation loss')\n",
    "plt.legend()\n",
    "\n",
    "plt.show()"
   ]
  },
  {
   "cell_type": "markdown",
   "metadata": {},
   "source": [
    "We've reached a validation accuracy of about 90%—much better than achieved in the previous section with the small model trained from scratch. But the plots also indicate that we’re overfitting almost from the start—despite using dropout with a fairly large rate. **That’s because this technique doesn’t use data augmentation**, which is essential for preventing overfitting with small image datasets.\n",
    "\n",
    "### Feature extraction with data augmentation\n",
    "Now, let’s review the second technique for doing feature extraction, which is much slower and more expensive, but allows you to use data augmentation during training: **extending the `conv_base` model and running it end to end on the inputs.**\n",
    "\n",
    "> **Note:** This technique is so expensive that you should only attempt it if you have access to a GPU—it’s absolutely intractable on CPU. If you can’t run your code on GPU, then the previous technique is the way to go.\n",
    "\n",
    "Because models behave just like layers, you can add a model (like `conv_base`) to a `Sequential` model just like you would add a layer."
   ]
  },
  {
   "cell_type": "code",
   "execution_count": 7,
   "metadata": {},
   "outputs": [],
   "source": [
    "from tensorflow.keras import models\n",
    "from tensorflow.keras import layers\n",
    "\n",
    "model = models.Sequential()\n",
    "model.add(conv_base)\n",
    "model.add(layers.Flatten())\n",
    "model.add(layers.Dense(256, activation='relu'))\n",
    "model.add(layers.Dense(1, activation='sigmoid'))"
   ]
  },
  {
   "cell_type": "code",
   "execution_count": 8,
   "metadata": {},
   "outputs": [
    {
     "name": "stdout",
     "output_type": "stream",
     "text": [
      "Model: \"sequential_1\"\n",
      "_________________________________________________________________\n",
      "Layer (type)                 Output Shape              Param #   \n",
      "=================================================================\n",
      "vgg16 (Functional)           (None, 4, 4, 512)         14714688  \n",
      "_________________________________________________________________\n",
      "flatten (Flatten)            (None, 8192)              0         \n",
      "_________________________________________________________________\n",
      "dense_2 (Dense)              (None, 256)               2097408   \n",
      "_________________________________________________________________\n",
      "dense_3 (Dense)              (None, 1)                 257       \n",
      "=================================================================\n",
      "Total params: 16,812,353\n",
      "Trainable params: 16,812,353\n",
      "Non-trainable params: 0\n",
      "_________________________________________________________________\n"
     ]
    }
   ],
   "source": [
    "model.summary()"
   ]
  },
  {
   "cell_type": "markdown",
   "metadata": {},
   "source": [
    "As you can see, the convolutional base of VGG16 has 14,714,688 parameters, which is very large. The classifier you’re adding on top has 2 million parameters.\n",
    "\n",
    "Before you compile and train the model, it’s very important to freeze the convolutional base. **Freezing** a layer or set of layers **means preventing their weights from being updated during training.** If you don’t do this, then the representations that were previously learned by the convolutional base will be modified during training. Because the `Dense` layers on top are randomly initialized, very large weight updates would be propagated through the network, effectively destroying the representations previously learned.\n",
    "\n",
    "In Keras, you freeze a network by setting its `trainable` attribute to `False`:"
   ]
  },
  {
   "cell_type": "code",
   "execution_count": 9,
   "metadata": {},
   "outputs": [
    {
     "name": "stdout",
     "output_type": "stream",
     "text": [
      "This is the number of trainable weights before freezing the conv base: 30\n"
     ]
    }
   ],
   "source": [
    "print('This is the number of trainable weights '\n",
    "      'before freezing the conv base:', len(model.trainable_weights))"
   ]
  },
  {
   "cell_type": "code",
   "execution_count": 10,
   "metadata": {},
   "outputs": [],
   "source": [
    "conv_base.trainable = False"
   ]
  },
  {
   "cell_type": "code",
   "execution_count": 11,
   "metadata": {},
   "outputs": [
    {
     "name": "stdout",
     "output_type": "stream",
     "text": [
      "This is the number of trainable weights after freezing the conv base: 4\n"
     ]
    }
   ],
   "source": [
    "print('This is the number of trainable weights '\n",
    "      'after freezing the conv base:', len(model.trainable_weights))"
   ]
  },
  {
   "cell_type": "markdown",
   "metadata": {},
   "source": [
    "With this setup, only the weights from the two `Dense` layers that you added will be trained. That’s a total of four weight tensors: two per layer (the main weight matrix and the bias vector).\n",
    "\n",
    "Note that in order for these changes to take effect, you must first compile the model. If you ever modify weight trainability after compilation, you should then recompile the model, or these changes will be ignored.\n",
    "\n",
    "Now you can start training your model, with the same data-augmentation configuration that you used in the previous example."
   ]
  },
  {
   "cell_type": "code",
   "execution_count": 12,
   "metadata": {
    "scrolled": true
   },
   "outputs": [
    {
     "name": "stdout",
     "output_type": "stream",
     "text": [
      "Found 2000 images belonging to 2 classes.\n",
      "Found 1000 images belonging to 2 classes.\n"
     ]
    },
    {
     "name": "stderr",
     "output_type": "stream",
     "text": [
      "/home/gary/.cache/pypoetry/virtualenvs/deep-learning-with-python-qnB20RqU-py3.8/lib/python3.8/site-packages/tensorflow/python/keras/optimizer_v2/optimizer_v2.py:374: UserWarning: The `lr` argument is deprecated, use `learning_rate` instead.\n",
      "  warnings.warn(\n"
     ]
    },
    {
     "name": "stdout",
     "output_type": "stream",
     "text": [
      "Epoch 1/30\n",
      "100/100 [==============================] - 16s 151ms/step - loss: 0.6039 - acc: 0.6730 - val_loss: 0.4583 - val_acc: 0.8240\n",
      "Epoch 2/30\n",
      "100/100 [==============================] - 15s 150ms/step - loss: 0.4890 - acc: 0.7810 - val_loss: 0.3716 - val_acc: 0.8570\n",
      "Epoch 3/30\n",
      "100/100 [==============================] - 15s 149ms/step - loss: 0.4379 - acc: 0.8090 - val_loss: 0.3282 - val_acc: 0.8780\n",
      "Epoch 4/30\n",
      "100/100 [==============================] - 15s 149ms/step - loss: 0.4025 - acc: 0.8200 - val_loss: 0.3117 - val_acc: 0.8820\n",
      "Epoch 5/30\n",
      "100/100 [==============================] - 15s 147ms/step - loss: 0.3855 - acc: 0.8330 - val_loss: 0.2911 - val_acc: 0.8850\n",
      "Epoch 6/30\n",
      "100/100 [==============================] - 15s 149ms/step - loss: 0.3578 - acc: 0.8490 - val_loss: 0.2854 - val_acc: 0.8860\n",
      "Epoch 7/30\n",
      "100/100 [==============================] - 15s 149ms/step - loss: 0.3554 - acc: 0.8455 - val_loss: 0.2794 - val_acc: 0.8890\n",
      "Epoch 8/30\n",
      "100/100 [==============================] - 15s 149ms/step - loss: 0.3468 - acc: 0.8410 - val_loss: 0.2710 - val_acc: 0.8910\n",
      "Epoch 9/30\n",
      "100/100 [==============================] - 15s 149ms/step - loss: 0.3517 - acc: 0.8350 - val_loss: 0.2744 - val_acc: 0.8880\n",
      "Epoch 10/30\n",
      "100/100 [==============================] - 15s 148ms/step - loss: 0.3474 - acc: 0.8485 - val_loss: 0.2656 - val_acc: 0.8900\n",
      "Epoch 11/30\n",
      "100/100 [==============================] - 15s 149ms/step - loss: 0.3371 - acc: 0.8515 - val_loss: 0.2588 - val_acc: 0.8960\n",
      "Epoch 12/30\n",
      "100/100 [==============================] - 15s 148ms/step - loss: 0.3206 - acc: 0.8645 - val_loss: 0.2579 - val_acc: 0.8950\n",
      "Epoch 13/30\n",
      "100/100 [==============================] - 15s 148ms/step - loss: 0.3157 - acc: 0.8685 - val_loss: 0.2590 - val_acc: 0.8950\n",
      "Epoch 14/30\n",
      "100/100 [==============================] - 15s 149ms/step - loss: 0.3196 - acc: 0.8630 - val_loss: 0.2591 - val_acc: 0.8890\n",
      "Epoch 15/30\n",
      "100/100 [==============================] - 15s 149ms/step - loss: 0.3174 - acc: 0.8560 - val_loss: 0.2548 - val_acc: 0.8910\n",
      "Epoch 16/30\n",
      "100/100 [==============================] - 15s 148ms/step - loss: 0.3046 - acc: 0.8675 - val_loss: 0.2614 - val_acc: 0.8910\n",
      "Epoch 17/30\n",
      "100/100 [==============================] - 15s 148ms/step - loss: 0.2987 - acc: 0.8745 - val_loss: 0.2575 - val_acc: 0.8920\n",
      "Epoch 18/30\n",
      "100/100 [==============================] - 15s 149ms/step - loss: 0.3172 - acc: 0.8640 - val_loss: 0.2569 - val_acc: 0.8930\n",
      "Epoch 19/30\n",
      "100/100 [==============================] - 15s 148ms/step - loss: 0.2937 - acc: 0.8750 - val_loss: 0.2542 - val_acc: 0.9000\n",
      "Epoch 20/30\n",
      "100/100 [==============================] - 15s 148ms/step - loss: 0.3033 - acc: 0.8750 - val_loss: 0.2501 - val_acc: 0.9010\n",
      "Epoch 21/30\n",
      "100/100 [==============================] - 15s 149ms/step - loss: 0.3019 - acc: 0.8690 - val_loss: 0.2496 - val_acc: 0.8950\n",
      "Epoch 22/30\n",
      "100/100 [==============================] - 15s 149ms/step - loss: 0.2964 - acc: 0.8760 - val_loss: 0.2517 - val_acc: 0.9000\n",
      "Epoch 23/30\n",
      "100/100 [==============================] - 15s 152ms/step - loss: 0.2918 - acc: 0.8850 - val_loss: 0.2533 - val_acc: 0.8960\n",
      "Epoch 24/30\n",
      "100/100 [==============================] - 15s 149ms/step - loss: 0.2987 - acc: 0.8705 - val_loss: 0.2462 - val_acc: 0.9020\n",
      "Epoch 25/30\n",
      "100/100 [==============================] - 15s 149ms/step - loss: 0.2880 - acc: 0.8795 - val_loss: 0.2594 - val_acc: 0.8930\n",
      "Epoch 26/30\n",
      "100/100 [==============================] - 15s 147ms/step - loss: 0.2840 - acc: 0.8780 - val_loss: 0.2461 - val_acc: 0.9060\n",
      "Epoch 27/30\n",
      "100/100 [==============================] - 15s 149ms/step - loss: 0.2928 - acc: 0.8760 - val_loss: 0.2466 - val_acc: 0.9100\n",
      "Epoch 28/30\n",
      "100/100 [==============================] - 15s 148ms/step - loss: 0.2913 - acc: 0.8790 - val_loss: 0.2511 - val_acc: 0.8970\n",
      "Epoch 29/30\n",
      "100/100 [==============================] - 15s 150ms/step - loss: 0.3016 - acc: 0.8660 - val_loss: 0.2431 - val_acc: 0.9060\n",
      "Epoch 30/30\n",
      "100/100 [==============================] - 15s 148ms/step - loss: 0.2817 - acc: 0.8785 - val_loss: 0.2431 - val_acc: 0.9060\n"
     ]
    }
   ],
   "source": [
    "from tensorflow.keras.preprocessing.image import ImageDataGenerator\n",
    "from tensorflow.keras import optimizers\n",
    "\n",
    "train_datagen = ImageDataGenerator(\n",
    "    rescale=1./255,\n",
    "    rotation_range=40,\n",
    "    width_shift_range=0.2,\n",
    "    height_shift_range=0.2,\n",
    "    shear_range=0.2,\n",
    "    zoom_range=0.2,\n",
    "    horizontal_flip=True,\n",
    "    fill_mode='nearest')\n",
    "\n",
    "test_datagen = ImageDataGenerator(rescale=1./255)\n",
    "\n",
    "train_generator = train_datagen.flow_from_directory(\n",
    "    train_dir,\n",
    "    target_size=(150, 150),\n",
    "    batch_size=20,\n",
    "    class_mode='binary')\n",
    "\n",
    "validation_generator = test_datagen.flow_from_directory(\n",
    "    validation_dir,\n",
    "    target_size=(150, 150),\n",
    "    batch_size=20,\n",
    "    class_mode='binary')\n",
    "\n",
    "model.compile(loss='binary_crossentropy',\n",
    "              optimizer=optimizers.RMSprop(lr=2e-5),\n",
    "              metrics=['acc'])\n",
    "\n",
    "history = model.fit(\n",
    "    train_generator,\n",
    "    steps_per_epoch=100,\n",
    "    epochs=30,\n",
    "    validation_data=validation_generator,\n",
    "    validation_steps=50)"
   ]
  },
  {
   "cell_type": "markdown",
   "metadata": {},
   "source": [
    "This is much better than you achieved with the small convnet trained from scratch. Although, it should be noted that without a dedicated GPU, this would **not be worth the performance increase over the Feature Extraction without data augmentation**."
   ]
  },
  {
   "cell_type": "code",
   "execution_count": 13,
   "metadata": {
    "scrolled": false
   },
   "outputs": [
    {
     "data": {
      "image/png": "[encoded data removed]",
      "text/plain": [
       "<Figure size 432x288 with 1 Axes>"
      ]
     },
     "metadata": {
      "needs_background": "light"
     },
     "output_type": "display_data"
    },
    {
     "data": {
      "image/png": "[encoded data removed]",
      "text/plain": [
       "<Figure size 432x288 with 1 Axes>"
      ]
     },
     "metadata": {
      "needs_background": "light"
     },
     "output_type": "display_data"
    }
   ],
   "source": [
    "acc = history.history['acc']\n",
    "val_acc = history.history['val_acc']\n",
    "loss = history.history['loss']\n",
    "val_loss = history.history['val_loss']\n",
    "\n",
    "epochs = range(1, len(acc) + 1)\n",
    "\n",
    "plt.plot(epochs, acc, 'bo', label='Training acc')\n",
    "plt.plot(epochs, val_acc, 'b', label='Validation acc')\n",
    "plt.title('Training and validation accuracy')\n",
    "plt.legend()\n",
    "\n",
    "plt.figure()\n",
    "\n",
    "plt.plot(epochs, loss, 'bo', label='Training loss')\n",
    "plt.plot(epochs, val_loss, 'b', label='Validation loss')\n",
    "plt.title('Training and validation loss')\n",
    "plt.legend()\n",
    "\n",
    "plt.show()"
   ]
  },
  {
   "cell_type": "markdown",
   "metadata": {},
   "source": [
    "## Fine-tuning\n",
    "Another widely used technique for model reuse, complementary to feature extraction, is fine-tuning. **Fine-tuning consists of unfreezing a few of the top layers of a frozen model base used for feature extraction, and jointly training both the newly added part of the model (in this case, the fully connected classifier) and these top layers.** This is called fine-tuning because it slightly adjusts the more abstract representations of the model being reused, in order to make them more relevant for the problem at hand.\n",
    "\n",
    "Earlier, it was explained why it is necessary to freeze *all* the weights of the convolution base. For the same reason, it’s only possible to fine-tune the *top layers* of the convolutional base once the classifier on top has already been trained.\n",
    "\n",
    "Thus the steps for fine-tuning a network are as follow:\n",
    "1. Add your custom network on top of an already-trained base network.\n",
    "2. Freeze the base network.\n",
    "3. Train the part you added.\n",
    "4. Unfreeze some layers in the base network.\n",
    "5. Jointly train both these layers and the part you added.\n",
    "\n",
    "\n",
    "We've already completed the first three steps when doing feature extraction. Let’s proceed with step 4: we’ll unfreeze your `conv_base` and then freeze individual layers inside it.\n",
    "\n",
    "As a reminder, this is what your convolutional base looks like:"
   ]
  },
  {
   "cell_type": "code",
   "execution_count": 14,
   "metadata": {},
   "outputs": [
    {
     "name": "stdout",
     "output_type": "stream",
     "text": [
      "Model: \"vgg16\"\n",
      "_________________________________________________________________\n",
      "Layer (type)                 Output Shape              Param #   \n",
      "=================================================================\n",
      "input_1 (InputLayer)         [(None, 150, 150, 3)]     0         \n",
      "_________________________________________________________________\n",
      "block1_conv1 (Conv2D)        (None, 150, 150, 64)      1792      \n",
      "_________________________________________________________________\n",
      "block1_conv2 (Conv2D)        (None, 150, 150, 64)      36928     \n",
      "_________________________________________________________________\n",
      "block1_pool (MaxPooling2D)   (None, 75, 75, 64)        0         \n",
      "_________________________________________________________________\n",
      "block2_conv1 (Conv2D)        (None, 75, 75, 128)       73856     \n",
      "_________________________________________________________________\n",
      "block2_conv2 (Conv2D)        (None, 75, 75, 128)       147584    \n",
      "_________________________________________________________________\n",
      "block2_pool (MaxPooling2D)   (None, 37, 37, 128)       0         \n",
      "_________________________________________________________________\n",
      "block3_conv1 (Conv2D)        (None, 37, 37, 256)       295168    \n",
      "_________________________________________________________________\n",
      "block3_conv2 (Conv2D)        (None, 37, 37, 256)       590080    \n",
      "_________________________________________________________________\n",
      "block3_conv3 (Conv2D)        (None, 37, 37, 256)       590080    \n",
      "_________________________________________________________________\n",
      "block3_pool (MaxPooling2D)   (None, 18, 18, 256)       0         \n",
      "_________________________________________________________________\n",
      "block4_conv1 (Conv2D)        (None, 18, 18, 512)       1180160   \n",
      "_________________________________________________________________\n",
      "block4_conv2 (Conv2D)        (None, 18, 18, 512)       2359808   \n",
      "_________________________________________________________________\n",
      "block4_conv3 (Conv2D)        (None, 18, 18, 512)       2359808   \n",
      "_________________________________________________________________\n",
      "block4_pool (MaxPooling2D)   (None, 9, 9, 512)         0         \n",
      "_________________________________________________________________\n",
      "block5_conv1 (Conv2D)        (None, 9, 9, 512)         2359808   \n",
      "_________________________________________________________________\n",
      "block5_conv2 (Conv2D)        (None, 9, 9, 512)         2359808   \n",
      "_________________________________________________________________\n",
      "block5_conv3 (Conv2D)        (None, 9, 9, 512)         2359808   \n",
      "_________________________________________________________________\n",
      "block5_pool (MaxPooling2D)   (None, 4, 4, 512)         0         \n",
      "=================================================================\n",
      "Total params: 14,714,688\n",
      "Trainable params: 0\n",
      "Non-trainable params: 14,714,688\n",
      "_________________________________________________________________\n"
     ]
    }
   ],
   "source": [
    "conv_base.summary()"
   ]
  },
  {
   "cell_type": "markdown",
   "metadata": {},
   "source": [
    "We’ll fine-tune the last three convolutional layers, which means all layers up to `block4_pool` should be frozen, and the layers `block5_conv1`, `block5_conv2`, and `block5_conv3` should be trainable. Recall that in this situation, it’s a good strategy to fine-tune only the top two or three layers in the convolutional base.\n",
    "\n",
    "Let’s set this up, starting from where we left off in the previous example."
   ]
  },
  {
   "cell_type": "code",
   "execution_count": 15,
   "metadata": {},
   "outputs": [],
   "source": [
    "conv_base.trainable = True\n",
    "\n",
    "set_trainable = False\n",
    "\n",
    "for layer in conv_base.layers:\n",
    "    if layer.name == 'block5_conv1':\n",
    "        set_trainable = True\n",
    "    if set_trainable:\n",
    "        layer.trainable = True\n",
    "    else:\n",
    "        layer.trainable = False"
   ]
  },
  {
   "cell_type": "markdown",
   "metadata": {},
   "source": [
    "Now we can begin fine-tuning the network. We’ll do this with the `RMSProp` optimizer, using a very low learning rate. **The reason for using a low learning rate is that you want to limit the magnitude of the modifications you make to the representations of the three layers you’re fine-tuning.** Updates that are too large may harm these representations."
   ]
  },
  {
   "cell_type": "code",
   "execution_count": 16,
   "metadata": {},
   "outputs": [
    {
     "name": "stdout",
     "output_type": "stream",
     "text": [
      "Epoch 1/100\n",
      "100/100 [==============================] - 16s 149ms/step - loss: 0.2862 - acc: 0.8725 - val_loss: 0.2315 - val_acc: 0.9120\n",
      "Epoch 2/100\n",
      "100/100 [==============================] - 15s 149ms/step - loss: 0.2693 - acc: 0.8895 - val_loss: 0.2087 - val_acc: 0.9190\n",
      "Epoch 3/100\n",
      "100/100 [==============================] - 15s 148ms/step - loss: 0.2449 - acc: 0.8895 - val_loss: 0.2079 - val_acc: 0.9190\n",
      "Epoch 4/100\n",
      "100/100 [==============================] - 15s 148ms/step - loss: 0.2073 - acc: 0.9110 - val_loss: 0.2108 - val_acc: 0.9170\n",
      "Epoch 5/100\n",
      "100/100 [==============================] - 15s 149ms/step - loss: 0.2100 - acc: 0.9115 - val_loss: 0.1916 - val_acc: 0.9220\n",
      "Epoch 6/100\n",
      "100/100 [==============================] - 15s 149ms/step - loss: 0.1935 - acc: 0.9200 - val_loss: 0.1892 - val_acc: 0.9250\n",
      "Epoch 7/100\n",
      "100/100 [==============================] - 15s 148ms/step - loss: 0.1797 - acc: 0.9270 - val_loss: 0.1959 - val_acc: 0.9260\n",
      "Epoch 8/100\n",
      "100/100 [==============================] - 15s 149ms/step - loss: 0.1789 - acc: 0.9335 - val_loss: 0.1850 - val_acc: 0.9270\n",
      "Epoch 9/100\n",
      "100/100 [==============================] - 15s 148ms/step - loss: 0.1740 - acc: 0.9285 - val_loss: 0.1929 - val_acc: 0.9300\n",
      "Epoch 10/100\n",
      "100/100 [==============================] - 15s 149ms/step - loss: 0.1479 - acc: 0.9375 - val_loss: 0.1823 - val_acc: 0.9280\n",
      "Epoch 11/100\n",
      "100/100 [==============================] - 15s 150ms/step - loss: 0.1412 - acc: 0.9430 - val_loss: 0.1735 - val_acc: 0.9310\n",
      "Epoch 12/100\n",
      "100/100 [==============================] - 15s 149ms/step - loss: 0.1446 - acc: 0.9415 - val_loss: 0.1872 - val_acc: 0.9270\n",
      "Epoch 13/100\n",
      "100/100 [==============================] - 15s 148ms/step - loss: 0.1229 - acc: 0.9525 - val_loss: 0.1972 - val_acc: 0.9310\n",
      "Epoch 14/100\n",
      "100/100 [==============================] - 15s 149ms/step - loss: 0.1072 - acc: 0.9575 - val_loss: 0.1982 - val_acc: 0.9270\n",
      "Epoch 15/100\n",
      "100/100 [==============================] - 15s 148ms/step - loss: 0.1145 - acc: 0.9565 - val_loss: 0.2057 - val_acc: 0.9250\n",
      "Epoch 16/100\n",
      "100/100 [==============================] - 15s 149ms/step - loss: 0.1162 - acc: 0.9540 - val_loss: 0.2091 - val_acc: 0.9310\n",
      "Epoch 17/100\n",
      "100/100 [==============================] - 15s 148ms/step - loss: 0.1174 - acc: 0.9540 - val_loss: 0.1996 - val_acc: 0.9290\n",
      "Epoch 18/100\n",
      "100/100 [==============================] - 15s 149ms/step - loss: 0.1101 - acc: 0.9570 - val_loss: 0.1924 - val_acc: 0.9320\n",
      "Epoch 19/100\n",
      "100/100 [==============================] - 15s 148ms/step - loss: 0.1106 - acc: 0.9595 - val_loss: 0.2604 - val_acc: 0.9150\n",
      "Epoch 20/100\n",
      "100/100 [==============================] - 15s 149ms/step - loss: 0.0874 - acc: 0.9640 - val_loss: 0.2123 - val_acc: 0.9290\n",
      "Epoch 21/100\n",
      "100/100 [==============================] - 15s 149ms/step - loss: 0.0856 - acc: 0.9655 - val_loss: 0.2120 - val_acc: 0.9340\n",
      "Epoch 22/100\n",
      "100/100 [==============================] - 15s 148ms/step - loss: 0.1004 - acc: 0.9615 - val_loss: 0.2002 - val_acc: 0.9320\n",
      "Epoch 23/100\n",
      "100/100 [==============================] - 15s 149ms/step - loss: 0.0920 - acc: 0.9650 - val_loss: 0.1963 - val_acc: 0.9340\n",
      "Epoch 24/100\n",
      "100/100 [==============================] - 15s 149ms/step - loss: 0.0816 - acc: 0.9685 - val_loss: 0.2178 - val_acc: 0.9250\n",
      "Epoch 25/100\n",
      "100/100 [==============================] - 15s 149ms/step - loss: 0.0844 - acc: 0.9695 - val_loss: 0.2033 - val_acc: 0.9370\n",
      "Epoch 26/100\n",
      "100/100 [==============================] - 15s 148ms/step - loss: 0.0748 - acc: 0.9690 - val_loss: 0.2189 - val_acc: 0.9350\n",
      "Epoch 27/100\n",
      "100/100 [==============================] - 15s 149ms/step - loss: 0.0754 - acc: 0.9700 - val_loss: 0.1968 - val_acc: 0.9290\n",
      "Epoch 28/100\n",
      "100/100 [==============================] - 15s 149ms/step - loss: 0.0761 - acc: 0.9755 - val_loss: 0.2125 - val_acc: 0.9250\n",
      "Epoch 29/100\n",
      "100/100 [==============================] - 15s 149ms/step - loss: 0.0603 - acc: 0.9740 - val_loss: 0.2841 - val_acc: 0.9210\n",
      "Epoch 30/100\n",
      "100/100 [==============================] - 15s 148ms/step - loss: 0.0566 - acc: 0.9800 - val_loss: 0.2034 - val_acc: 0.9260\n",
      "Epoch 31/100\n",
      "100/100 [==============================] - 15s 149ms/step - loss: 0.0684 - acc: 0.9715 - val_loss: 0.1885 - val_acc: 0.9370\n",
      "Epoch 32/100\n",
      "100/100 [==============================] - 15s 147ms/step - loss: 0.0624 - acc: 0.9750 - val_loss: 0.1905 - val_acc: 0.9380\n",
      "Epoch 33/100\n",
      "100/100 [==============================] - 15s 149ms/step - loss: 0.0678 - acc: 0.9760 - val_loss: 0.2172 - val_acc: 0.9300\n",
      "Epoch 34/100\n",
      "100/100 [==============================] - 15s 149ms/step - loss: 0.0630 - acc: 0.9750 - val_loss: 0.1912 - val_acc: 0.9350\n",
      "Epoch 35/100\n",
      "100/100 [==============================] - 15s 148ms/step - loss: 0.0404 - acc: 0.9855 - val_loss: 0.2072 - val_acc: 0.9340\n",
      "Epoch 36/100\n",
      "100/100 [==============================] - 15s 150ms/step - loss: 0.0706 - acc: 0.9755 - val_loss: 0.2011 - val_acc: 0.9310\n",
      "Epoch 37/100\n",
      "100/100 [==============================] - 15s 149ms/step - loss: 0.0448 - acc: 0.9855 - val_loss: 0.2491 - val_acc: 0.9260\n",
      "Epoch 38/100\n",
      "100/100 [==============================] - 15s 148ms/step - loss: 0.0441 - acc: 0.9855 - val_loss: 0.2725 - val_acc: 0.9230\n",
      "Epoch 39/100\n",
      "100/100 [==============================] - 15s 149ms/step - loss: 0.0495 - acc: 0.9790 - val_loss: 0.2982 - val_acc: 0.9230\n",
      "Epoch 40/100\n",
      "100/100 [==============================] - 15s 148ms/step - loss: 0.0558 - acc: 0.9780 - val_loss: 0.1993 - val_acc: 0.9310\n",
      "Epoch 41/100\n",
      "100/100 [==============================] - 15s 149ms/step - loss: 0.0488 - acc: 0.9830 - val_loss: 0.2232 - val_acc: 0.9350\n",
      "Epoch 42/100\n",
      "100/100 [==============================] - 15s 149ms/step - loss: 0.0447 - acc: 0.9825 - val_loss: 0.2229 - val_acc: 0.9280\n",
      "Epoch 43/100\n",
      "100/100 [==============================] - 15s 149ms/step - loss: 0.0509 - acc: 0.9815 - val_loss: 0.2077 - val_acc: 0.9330\n",
      "Epoch 44/100\n",
      "100/100 [==============================] - 15s 149ms/step - loss: 0.0533 - acc: 0.9790 - val_loss: 0.2739 - val_acc: 0.9250\n",
      "Epoch 45/100\n",
      "100/100 [==============================] - 15s 148ms/step - loss: 0.0448 - acc: 0.9850 - val_loss: 0.2801 - val_acc: 0.9300\n",
      "Epoch 46/100\n",
      "100/100 [==============================] - 15s 149ms/step - loss: 0.0482 - acc: 0.9800 - val_loss: 0.2051 - val_acc: 0.9330\n",
      "Epoch 47/100\n",
      "100/100 [==============================] - 15s 149ms/step - loss: 0.0456 - acc: 0.9825 - val_loss: 0.2148 - val_acc: 0.9320\n",
      "Epoch 48/100\n",
      "100/100 [==============================] - 15s 149ms/step - loss: 0.0509 - acc: 0.9815 - val_loss: 0.2412 - val_acc: 0.9350\n",
      "Epoch 49/100\n",
      "100/100 [==============================] - 15s 149ms/step - loss: 0.0458 - acc: 0.9855 - val_loss: 0.2574 - val_acc: 0.9230\n",
      "Epoch 50/100\n",
      "100/100 [==============================] - 15s 149ms/step - loss: 0.0453 - acc: 0.9865 - val_loss: 0.2045 - val_acc: 0.9350\n",
      "Epoch 51/100\n",
      "100/100 [==============================] - 15s 149ms/step - loss: 0.0393 - acc: 0.9875 - val_loss: 0.2018 - val_acc: 0.9370\n",
      "Epoch 52/100\n",
      "100/100 [==============================] - 15s 149ms/step - loss: 0.0331 - acc: 0.9890 - val_loss: 0.2178 - val_acc: 0.9330\n",
      "Epoch 53/100\n",
      "100/100 [==============================] - 15s 149ms/step - loss: 0.0453 - acc: 0.9850 - val_loss: 0.2490 - val_acc: 0.9320\n",
      "Epoch 54/100\n",
      "100/100 [==============================] - 15s 149ms/step - loss: 0.0441 - acc: 0.9850 - val_loss: 0.3980 - val_acc: 0.9170\n",
      "Epoch 55/100\n",
      "100/100 [==============================] - 15s 148ms/step - loss: 0.0285 - acc: 0.9895 - val_loss: 0.3127 - val_acc: 0.9210\n",
      "Epoch 56/100\n",
      "100/100 [==============================] - 15s 149ms/step - loss: 0.0396 - acc: 0.9880 - val_loss: 0.2024 - val_acc: 0.9390\n",
      "Epoch 57/100\n",
      "100/100 [==============================] - 15s 148ms/step - loss: 0.0426 - acc: 0.9855 - val_loss: 0.2201 - val_acc: 0.9340\n",
      "Epoch 58/100\n",
      "100/100 [==============================] - 15s 149ms/step - loss: 0.0302 - acc: 0.9880 - val_loss: 0.2210 - val_acc: 0.9300\n",
      "Epoch 59/100\n",
      "100/100 [==============================] - 15s 148ms/step - loss: 0.0371 - acc: 0.9880 - val_loss: 0.4263 - val_acc: 0.9160\n",
      "Epoch 60/100\n",
      "100/100 [==============================] - 15s 149ms/step - loss: 0.0295 - acc: 0.9885 - val_loss: 0.2654 - val_acc: 0.9320\n"
     ]
    },
    {
     "name": "stdout",
     "output_type": "stream",
     "text": [
      "Epoch 61/100\n",
      "100/100 [==============================] - 15s 148ms/step - loss: 0.0307 - acc: 0.9900 - val_loss: 0.2687 - val_acc: 0.9310\n",
      "Epoch 62/100\n",
      "100/100 [==============================] - 15s 149ms/step - loss: 0.0371 - acc: 0.9865 - val_loss: 0.2332 - val_acc: 0.9310\n",
      "Epoch 63/100\n",
      "100/100 [==============================] - 15s 149ms/step - loss: 0.0251 - acc: 0.9905 - val_loss: 0.3293 - val_acc: 0.9270\n",
      "Epoch 64/100\n",
      "100/100 [==============================] - 15s 148ms/step - loss: 0.0316 - acc: 0.9915 - val_loss: 0.2082 - val_acc: 0.9400\n",
      "Epoch 65/100\n",
      "100/100 [==============================] - 15s 148ms/step - loss: 0.0315 - acc: 0.9900 - val_loss: 0.2416 - val_acc: 0.9410\n",
      "Epoch 66/100\n",
      "100/100 [==============================] - 15s 149ms/step - loss: 0.0323 - acc: 0.9885 - val_loss: 0.3176 - val_acc: 0.9290\n",
      "Epoch 67/100\n",
      "100/100 [==============================] - 15s 148ms/step - loss: 0.0298 - acc: 0.9915 - val_loss: 0.2616 - val_acc: 0.9340\n",
      "Epoch 68/100\n",
      "100/100 [==============================] - 15s 149ms/step - loss: 0.0318 - acc: 0.9890 - val_loss: 0.3509 - val_acc: 0.9220\n",
      "Epoch 69/100\n",
      "100/100 [==============================] - 15s 149ms/step - loss: 0.0274 - acc: 0.9915 - val_loss: 0.2637 - val_acc: 0.9370\n",
      "Epoch 70/100\n",
      "100/100 [==============================] - 15s 149ms/step - loss: 0.0292 - acc: 0.9890 - val_loss: 0.2667 - val_acc: 0.9330\n",
      "Epoch 71/100\n",
      "100/100 [==============================] - 15s 148ms/step - loss: 0.0230 - acc: 0.9910 - val_loss: 0.3931 - val_acc: 0.9240\n",
      "Epoch 72/100\n",
      "100/100 [==============================] - 15s 150ms/step - loss: 0.0289 - acc: 0.9885 - val_loss: 0.3114 - val_acc: 0.9310\n",
      "Epoch 73/100\n",
      "100/100 [==============================] - 15s 148ms/step - loss: 0.0271 - acc: 0.9915 - val_loss: 0.2688 - val_acc: 0.9350\n",
      "Epoch 74/100\n",
      "100/100 [==============================] - 15s 148ms/step - loss: 0.0215 - acc: 0.9930 - val_loss: 0.2326 - val_acc: 0.9390\n",
      "Epoch 75/100\n",
      "100/100 [==============================] - 15s 149ms/step - loss: 0.0214 - acc: 0.9925 - val_loss: 0.2336 - val_acc: 0.9360\n",
      "Epoch 76/100\n",
      "100/100 [==============================] - 15s 148ms/step - loss: 0.0285 - acc: 0.9885 - val_loss: 0.2798 - val_acc: 0.9330\n",
      "Epoch 77/100\n",
      "100/100 [==============================] - 15s 148ms/step - loss: 0.0223 - acc: 0.9920 - val_loss: 0.2810 - val_acc: 0.9350\n",
      "Epoch 78/100\n",
      "100/100 [==============================] - 15s 149ms/step - loss: 0.0316 - acc: 0.9895 - val_loss: 0.2804 - val_acc: 0.9360\n",
      "Epoch 79/100\n",
      "100/100 [==============================] - 15s 149ms/step - loss: 0.0212 - acc: 0.9905 - val_loss: 0.3014 - val_acc: 0.9320\n",
      "Epoch 80/100\n",
      "100/100 [==============================] - 15s 149ms/step - loss: 0.0228 - acc: 0.9915 - val_loss: 0.3365 - val_acc: 0.9280\n",
      "Epoch 81/100\n",
      "100/100 [==============================] - 15s 149ms/step - loss: 0.0219 - acc: 0.9905 - val_loss: 0.3566 - val_acc: 0.9280\n",
      "Epoch 82/100\n",
      "100/100 [==============================] - 15s 148ms/step - loss: 0.0240 - acc: 0.9920 - val_loss: 0.3407 - val_acc: 0.9300\n",
      "Epoch 83/100\n",
      "100/100 [==============================] - 15s 148ms/step - loss: 0.0247 - acc: 0.9930 - val_loss: 0.2722 - val_acc: 0.9360\n",
      "Epoch 84/100\n",
      "100/100 [==============================] - 15s 149ms/step - loss: 0.0268 - acc: 0.9930 - val_loss: 0.2681 - val_acc: 0.9320\n",
      "Epoch 85/100\n",
      "100/100 [==============================] - 15s 148ms/step - loss: 0.0243 - acc: 0.9905 - val_loss: 0.2820 - val_acc: 0.9340\n",
      "Epoch 86/100\n",
      "100/100 [==============================] - 15s 148ms/step - loss: 0.0216 - acc: 0.9925 - val_loss: 0.3860 - val_acc: 0.9200\n",
      "Epoch 87/100\n",
      "100/100 [==============================] - 15s 149ms/step - loss: 0.0218 - acc: 0.9920 - val_loss: 0.3923 - val_acc: 0.9280\n",
      "Epoch 88/100\n",
      "100/100 [==============================] - 15s 148ms/step - loss: 0.0320 - acc: 0.9920 - val_loss: 0.3075 - val_acc: 0.9330\n",
      "Epoch 89/100\n",
      "100/100 [==============================] - 15s 148ms/step - loss: 0.0207 - acc: 0.9920 - val_loss: 0.2999 - val_acc: 0.9390\n",
      "Epoch 90/100\n",
      "100/100 [==============================] - 15s 149ms/step - loss: 0.0231 - acc: 0.9925 - val_loss: 0.3278 - val_acc: 0.9390\n",
      "Epoch 91/100\n",
      "100/100 [==============================] - 15s 150ms/step - loss: 0.0100 - acc: 0.9970 - val_loss: 0.2862 - val_acc: 0.9320\n",
      "Epoch 92/100\n",
      "100/100 [==============================] - 15s 149ms/step - loss: 0.0209 - acc: 0.9925 - val_loss: 0.3406 - val_acc: 0.9350\n",
      "Epoch 93/100\n",
      "100/100 [==============================] - 15s 149ms/step - loss: 0.0219 - acc: 0.9940 - val_loss: 0.3093 - val_acc: 0.9360\n",
      "Epoch 94/100\n",
      "100/100 [==============================] - 15s 149ms/step - loss: 0.0148 - acc: 0.9960 - val_loss: 0.2776 - val_acc: 0.9410\n",
      "Epoch 95/100\n",
      "100/100 [==============================] - 15s 148ms/step - loss: 0.0195 - acc: 0.9915 - val_loss: 0.2781 - val_acc: 0.9360\n",
      "Epoch 96/100\n",
      "100/100 [==============================] - 15s 148ms/step - loss: 0.0173 - acc: 0.9930 - val_loss: 0.2914 - val_acc: 0.9300\n",
      "Epoch 97/100\n",
      "100/100 [==============================] - 15s 148ms/step - loss: 0.0175 - acc: 0.9955 - val_loss: 0.3296 - val_acc: 0.9280\n",
      "Epoch 98/100\n",
      "100/100 [==============================] - 15s 148ms/step - loss: 0.0121 - acc: 0.9955 - val_loss: 0.3881 - val_acc: 0.9310\n",
      "Epoch 99/100\n",
      "100/100 [==============================] - 15s 149ms/step - loss: 0.0248 - acc: 0.9905 - val_loss: 0.6615 - val_acc: 0.9000\n",
      "Epoch 100/100\n",
      "100/100 [==============================] - 15s 149ms/step - loss: 0.0080 - acc: 0.9975 - val_loss: 0.2774 - val_acc: 0.9350\n"
     ]
    }
   ],
   "source": [
    "model.compile(loss='binary_crossentropy',\n",
    "              optimizer=optimizers.RMSprop(lr=1e-5),\n",
    "              metrics=['acc'])\n",
    "\n",
    "history = model.fit(train_generator,\n",
    "                    steps_per_epoch=100,\n",
    "                    epochs=100,\n",
    "                    validation_data=validation_generator,\n",
    "                    validation_steps=50)"
   ]
  },
  {
   "cell_type": "code",
   "execution_count": 17,
   "metadata": {},
   "outputs": [
    {
     "data": {
      "image/png": "[encoded data removed]",
      "text/plain": [
       "<Figure size 432x288 with 1 Axes>"
      ]
     },
     "metadata": {
      "needs_background": "light"
     },
     "output_type": "display_data"
    },
    {
     "data": {
      "image/png": "[encoded data removed]",
      "text/plain": [
       "<Figure size 432x288 with 1 Axes>"
      ]
     },
     "metadata": {
      "needs_background": "light"
     },
     "output_type": "display_data"
    }
   ],
   "source": [
    "acc = history.history['acc']\n",
    "val_acc = history.history['val_acc']\n",
    "loss = history.history['loss']\n",
    "val_loss = history.history['val_loss']\n",
    "\n",
    "epochs = range(1, len(acc) + 1)\n",
    "\n",
    "plt.plot(epochs, acc, 'bo', label='Training acc')\n",
    "plt.plot(epochs, val_acc, 'b', label='Validation acc')\n",
    "plt.title('Training and validation accuracy')\n",
    "plt.legend()\n",
    "\n",
    "plt.figure()\n",
    "\n",
    "plt.plot(epochs, loss, 'bo', label='Training loss')\n",
    "plt.plot(epochs, val_loss, 'b', label='Validation loss')\n",
    "plt.title('Training and validation loss')\n",
    "plt.legend()\n",
    "\n",
    "plt.show()"
   ]
  },
  {
   "cell_type": "markdown",
   "metadata": {},
   "source": [
    "These curves look noisy. To make them more readable, we can smooth them by replacing every loss and accuracy with exponential moving averages of these quantities. Here’s a trivial utility function to do this."
   ]
  },
  {
   "cell_type": "code",
   "execution_count": 18,
   "metadata": {},
   "outputs": [
    {
     "data": {
      "image/png": "[encoded data removed]",
      "text/plain": [
       "<Figure size 432x288 with 1 Axes>"
      ]
     },
     "metadata": {
      "needs_background": "light"
     },
     "output_type": "display_data"
    },
    {
     "data": {
      "image/png": "[encoded data removed]",
      "text/plain": [
       "<Figure size 432x288 with 1 Axes>"
      ]
     },
     "metadata": {
      "needs_background": "light"
     },
     "output_type": "display_data"
    }
   ],
   "source": [
    "def smooth_curve(points, factor=0.8):\n",
    "    smoothed_points = []\n",
    "    for point in points:\n",
    "        if smoothed_points:\n",
    "            previous = smoothed_points[-1]\n",
    "            smoothed_points.append(previous * factor + point * (1 - factor))\n",
    "        else:\n",
    "            smoothed_points.append(point)\n",
    "    return smoothed_points\n",
    "\n",
    "plt.plot(epochs, smooth_curve(acc), 'bo', label='Smoothed training acc')\n",
    "plt.plot(epochs, smooth_curve(val_acc), 'b', label='Smoothed validation acc')\n",
    "\n",
    "plt.title('Training and validation accuracy')\n",
    "plt.legend()\n",
    "plt.figure()\n",
    "\n",
    "plt.plot(epochs, smooth_curve(loss), 'bo', label='Smoothed training loss')\n",
    "plt.plot(epochs, smooth_curve(val_loss), 'b', label='Smoothed validation loss')\n",
    "\n",
    "plt.title('Training and validation loss')\n",
    "plt.legend()\n",
    "\n",
    "plt.show()"
   ]
  },
  {
   "cell_type": "markdown",
   "metadata": {},
   "source": [
    "The validation accuracy curve look much cleaner. You’re seeing a nice 3% absolute improvement in accuracy from Feature Extraction with data augmentation.\n",
    "\n",
    "Note that the loss curve doesn’t show any real improvement (in fact, it’s deteriorating). You may wonder, how could accuracy stay stable or improve if the loss isn’t decreasing? The answer is simple: **what you display is an average of pointwise loss values; but what matters for accuracy is the distribution of the loss values, not their average, because accuracy is the result of a binary thresholding of the class probability predicted by the model.** The model may still be improving even if this isn’t reflected in the average loss.\n",
    "\n",
    "Finally, we will evaluate this model on the test data:"
   ]
  },
  {
   "cell_type": "code",
   "execution_count": 20,
   "metadata": {},
   "outputs": [
    {
     "name": "stdout",
     "output_type": "stream",
     "text": [
      "Found 1000 images belonging to 2 classes.\n",
      "50/50 [==============================] - 3s 56ms/step - loss: 0.3180 - acc: 0.9390\n",
      "test acc: 0.9390000104904175\n"
     ]
    }
   ],
   "source": [
    "test_generator = test_datagen.flow_from_directory(test_dir,\n",
    "                                                  target_size=(150, 150),\n",
    "                                                  batch_size=20,\n",
    "                                                  class_mode='binary')\n",
    "\n",
    "test_loss, test_acc = model.evaluate(test_generator, steps=50)\n",
    "print('test acc:', test_acc)"
   ]
  },
  {
   "cell_type": "markdown",
   "metadata": {},
   "source": [
    "Here you get a test accuracy of 94%.\n",
    "\n",
    "## Wrapping up\n",
    "Here’s what you should take away from the exercises in the past two sections:\n",
    "\n",
    "- **Convnets are the best type of machine-learning models for computer-vision tasks.** It’s possible to train one from scratch even on a very small dataset, with decent results.\n",
    "- On a small dataset, overfitting will be the main issue. **Data augmentation is a powerful way to fight overfitting when you’re working with image data.**\n",
    "- It’s easy to reuse an existing convnet on a new dataset via feature extraction. This is a valuable technique for working with small image datasets.\n",
    "- **As a complement to feature extraction, you can use fine-tuning**, which adapts to a new problem some of the representations previously learned by an existing model. This pushes performance a bit further.\n",
    "\n",
    "Now you have a solid set of tools for dealing with image-classification problems—in particular with small datasets."
   ]
  }
 ],
 "metadata": {
  "kernelspec": {
   "display_name": "Python 3",
   "language": "python",
   "name": "python3"
  },
  "language_info": {
   "codemirror_mode": {
    "name": "ipython",
    "version": 3
   },
   "file_extension": ".py",
   "mimetype": "text/x-python",
   "name": "python",
   "nbconvert_exporter": "python",
   "pygments_lexer": "ipython3",
   "version": "3.8.10"
  }
 },
 "nbformat": 4,
 "nbformat_minor": 4
}
