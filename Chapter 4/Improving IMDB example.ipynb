{
 "cells": [
  {
   "cell_type": "markdown",
   "metadata": {},
   "source": [
    "# Network Capacity\n",
    "In deep learning, the number of learnable parameters in a model is often referred to as the model’s **capacity**. Intuitively, a model with more parameters has more **memorization capacity** and therefore can easily learn a perfect dictionary-like mapping between training samples and their targets—a mapping without any generalization power.\n",
    "\n",
    "If the network has limited memorization resources, it won’t be able to learn this mapping as easily; thus, in order to minimize its loss, it will have to resort to learning compressed representations that have predictive power regarding the targets—precisely the type of representations we’re interested in.\n",
    "\n",
    "The general workflow to find an appropriate model size is to start with relatively few layers and parameters, and increase the size of the layers or add new layers until you see diminishing returns with regard to validation loss. Let’s try this on the movie-review classification network. The original network is shown first."
   ]
  },
  {
   "cell_type": "code",
   "execution_count": 1,
   "metadata": {},
   "outputs": [
    {
     "name": "stderr",
     "output_type": "stream",
     "text": [
      "<__array_function__ internals>:5: VisibleDeprecationWarning: Creating an ndarray from ragged nested sequences (which is a list-or-tuple of lists-or-tuples-or ndarrays with different lengths or shapes) is deprecated. If you meant to do this, you must specify 'dtype=object' when creating the ndarray\n",
      "/usr/local/lib/python3.8/dist-packages/tensorflow/python/keras/datasets/imdb.py:159: VisibleDeprecationWarning: Creating an ndarray from ragged nested sequences (which is a list-or-tuple of lists-or-tuples-or ndarrays with different lengths or shapes) is deprecated. If you meant to do this, you must specify 'dtype=object' when creating the ndarray\n",
      "  x_train, y_train = np.array(xs[:idx]), np.array(labels[:idx])\n",
      "/usr/local/lib/python3.8/dist-packages/tensorflow/python/keras/datasets/imdb.py:160: VisibleDeprecationWarning: Creating an ndarray from ragged nested sequences (which is a list-or-tuple of lists-or-tuples-or ndarrays with different lengths or shapes) is deprecated. If you meant to do this, you must specify 'dtype=object' when creating the ndarray\n",
      "  x_test, y_test = np.array(xs[idx:]), np.array(labels[idx:])\n"
     ]
    }
   ],
   "source": [
    "from keras.datasets import imdb\n",
    "\n",
    "(train_data, train_labels),(test_data, test_labels) = imdb.load_data(num_words=10000)"
   ]
  },
  {
   "cell_type": "code",
   "execution_count": 2,
   "metadata": {},
   "outputs": [],
   "source": [
    "import numpy as np\n",
    "\n",
    "def vectorize_sequences(sequences, dimension=10000):\n",
    "    results = np.zeros((len(sequences), dimension))\n",
    "    for i, sequence in enumerate(sequences):\n",
    "        results[i, sequence] = 1\n",
    "    return results"
   ]
  },
  {
   "cell_type": "code",
   "execution_count": 3,
   "metadata": {},
   "outputs": [],
   "source": [
    "x_train = vectorize_sequences(train_data)\n",
    "x_test = vectorize_sequences(test_data)"
   ]
  },
  {
   "cell_type": "code",
   "execution_count": 4,
   "metadata": {},
   "outputs": [],
   "source": [
    "y_train = np.asarray(train_labels).astype('float32')\n",
    "y_test = np.asarray(test_labels).astype('float32')"
   ]
  },
  {
   "cell_type": "markdown",
   "metadata": {},
   "source": [
    "## Original model"
   ]
  },
  {
   "cell_type": "code",
   "execution_count": 5,
   "metadata": {},
   "outputs": [],
   "source": [
    "from keras import models\n",
    "from keras import layers\n",
    "\n",
    "model = models.Sequential()\n",
    "model.add(layers.Dense(16, activation='relu', input_shape=(10000,)))\n",
    "model.add(layers.Dense(16, activation='relu'))\n",
    "model.add(layers.Dense(1, activation='sigmoid'))"
   ]
  },
  {
   "cell_type": "code",
   "execution_count": 6,
   "metadata": {},
   "outputs": [],
   "source": [
    "model.compile(optimizer='rmsprop', loss='binary_crossentropy', metrics=['accuracy'])"
   ]
  },
  {
   "cell_type": "markdown",
   "metadata": {},
   "source": [
    "## Version of model with lower capacity"
   ]
  },
  {
   "cell_type": "code",
   "execution_count": 7,
   "metadata": {},
   "outputs": [],
   "source": [
    "model_low_cap = models.Sequential()\n",
    "model_low_cap.add(layers.Dense(4, activation='relu', input_shape=(10000,)))\n",
    "model_low_cap.add(layers.Dense(4, activation='relu'))\n",
    "model_low_cap.add(layers.Dense(1, activation='sigmoid'))"
   ]
  },
  {
   "cell_type": "code",
   "execution_count": 8,
   "metadata": {},
   "outputs": [],
   "source": [
    "model_low_cap.compile(optimizer='rmsprop', loss='binary_crossentropy', metrics=['accuracy'])"
   ]
  },
  {
   "cell_type": "markdown",
   "metadata": {},
   "source": [
    "As one might expect, the version of the model with lower capacity will start overfitting later than the reference network, and its performance degrades more slowly once it does start overfitting.\n",
    "\n",
    "In the same vein, a network with much more capacity will begin overfitting almost immediately, and overfits much more severely. Its validation loss is also likely to be noisier."
   ]
  },
  {
   "cell_type": "markdown",
   "metadata": {},
   "source": [
    "# Adding weight regularization\n",
    "Given some training data and a network architecture, multiple sets of weight values (multiple models) *could* explain the data. Which one should we choose? As it turns out, simpler models are less likely to over-fit than complex ones.\n",
    "\n",
    "A **simple model** in this context is a model where the distribution of parameter values has less entropy (or a model with fewer parameters). Thus a common way to mitigate overfitting is to put constraints on the complexity of a network by forcing its weights to take only small values, which makes the distribution of weight values more regular. **This is called weight regularization, and it’s done by adding to the loss function of the network a cost associated with having large weights.** This cost comes in two flavors:\n",
    "\n",
    "- **L1 regularization**—The cost added is proportional to the *absolute value of the weight coefficients* (the L1 norm of the weights).\n",
    "- **L2 regularization**—The cost added is proportional to the *square of the value of the weight coefficients* (the L2 norm of the weights). L2 regularization is also called **weight decay** in the context of neural networks.\n",
    "\n",
    "\n",
    "In Keras, weight regularization is added by passing **weight regularizer instances** to layers as keyword arguments. Let’s add L2 weight regularization to the movie-review classification network."
   ]
  },
  {
   "cell_type": "code",
   "execution_count": 9,
   "metadata": {},
   "outputs": [],
   "source": [
    "from keras import regularizers\n",
    "\n",
    "\n",
    "reg_model = models.Sequential()\n",
    "reg_model.add(layers.Dense(16, kernel_regularizer=regularizers.l2(0.001),\n",
    "                       activation='relu', input_shape=(10000,)))\n",
    "reg_model.add(layers.Dense(16, kernel_regularizer=regularizers.l2(0.001),\n",
    "                       activation='relu'))\n",
    "reg_model.add(layers.Dense(1, activation='sigmoid'))"
   ]
  },
  {
   "cell_type": "markdown",
   "metadata": {},
   "source": [
    "`l2(0.001)` means every coefficient in the weight matrix of the layer will add `0.001 * weight_coefficient_value` to the total loss of the network. Note that because this penalty is *only added at training time*, the loss for this network will be much higher at training than at test time."
   ]
  },
  {
   "cell_type": "code",
   "execution_count": 10,
   "metadata": {},
   "outputs": [],
   "source": [
    "reg_model.compile(optimizer='rmsprop', loss='binary_crossentropy', metrics=['accuracy'])"
   ]
  },
  {
   "cell_type": "code",
   "execution_count": 11,
   "metadata": {},
   "outputs": [],
   "source": [
    "x_val = x_train[:10000] # Set aside first 10,000 samples for validation\n",
    "partial_x_train = x_train[10000:]\n",
    "\n",
    "y_val = y_train[:10000]\n",
    "partial_y_train = y_train[10000:]"
   ]
  },
  {
   "cell_type": "code",
   "execution_count": 12,
   "metadata": {
    "scrolled": true
   },
   "outputs": [
    {
     "name": "stdout",
     "output_type": "stream",
     "text": [
      "Epoch 1/20\n",
      "118/118 [==============================] - 1s 8ms/step - loss: 0.5231 - accuracy: 0.7649 - val_loss: 0.3297 - val_accuracy: 0.8649\n",
      "Epoch 2/20\n",
      "118/118 [==============================] - 1s 4ms/step - loss: 0.2221 - accuracy: 0.9205 - val_loss: 0.2926 - val_accuracy: 0.8842\n",
      "Epoch 3/20\n",
      "118/118 [==============================] - 1s 4ms/step - loss: 0.1516 - accuracy: 0.9487 - val_loss: 0.3122 - val_accuracy: 0.8831\n",
      "Epoch 4/20\n",
      "118/118 [==============================] - 1s 5ms/step - loss: 0.1121 - accuracy: 0.9636 - val_loss: 0.3282 - val_accuracy: 0.8832\n",
      "Epoch 5/20\n",
      "118/118 [==============================] - 1s 4ms/step - loss: 0.0890 - accuracy: 0.9708 - val_loss: 0.3856 - val_accuracy: 0.8733\n",
      "Epoch 6/20\n",
      "118/118 [==============================] - 1s 4ms/step - loss: 0.0681 - accuracy: 0.9782 - val_loss: 0.4381 - val_accuracy: 0.8738\n",
      "Epoch 7/20\n",
      "118/118 [==============================] - 1s 4ms/step - loss: 0.0514 - accuracy: 0.9828 - val_loss: 0.4863 - val_accuracy: 0.8699\n",
      "Epoch 8/20\n",
      "118/118 [==============================] - 1s 4ms/step - loss: 0.0365 - accuracy: 0.9886 - val_loss: 0.5275 - val_accuracy: 0.8697\n",
      "Epoch 9/20\n",
      "118/118 [==============================] - 1s 4ms/step - loss: 0.0250 - accuracy: 0.9920 - val_loss: 0.6074 - val_accuracy: 0.8674\n",
      "Epoch 10/20\n",
      "118/118 [==============================] - 1s 4ms/step - loss: 0.0166 - accuracy: 0.9962 - val_loss: 0.6925 - val_accuracy: 0.8642\n",
      "Epoch 11/20\n",
      "118/118 [==============================] - 1s 4ms/step - loss: 0.0106 - accuracy: 0.9977 - val_loss: 0.8488 - val_accuracy: 0.8573\n",
      "Epoch 12/20\n",
      "118/118 [==============================] - 1s 4ms/step - loss: 0.0063 - accuracy: 0.9991 - val_loss: 0.8687 - val_accuracy: 0.8659\n",
      "Epoch 13/20\n",
      "118/118 [==============================] - 1s 4ms/step - loss: 0.0036 - accuracy: 0.9994 - val_loss: 0.9760 - val_accuracy: 0.8636\n",
      "Epoch 14/20\n",
      "118/118 [==============================] - 1s 4ms/step - loss: 0.0019 - accuracy: 0.9998 - val_loss: 1.0923 - val_accuracy: 0.8625\n",
      "Epoch 15/20\n",
      "118/118 [==============================] - 1s 4ms/step - loss: 9.0009e-04 - accuracy: 0.9999 - val_loss: 1.2097 - val_accuracy: 0.8618\n",
      "Epoch 16/20\n",
      "118/118 [==============================] - 1s 4ms/step - loss: 4.7910e-04 - accuracy: 1.0000 - val_loss: 1.3383 - val_accuracy: 0.8616\n",
      "Epoch 17/20\n",
      "118/118 [==============================] - 1s 4ms/step - loss: 4.2289e-04 - accuracy: 0.9998 - val_loss: 1.4425 - val_accuracy: 0.8603\n",
      "Epoch 18/20\n",
      "118/118 [==============================] - 1s 4ms/step - loss: 1.5138e-04 - accuracy: 0.9999 - val_loss: 1.6516 - val_accuracy: 0.8523\n",
      "Epoch 19/20\n",
      "118/118 [==============================] - 1s 4ms/step - loss: 1.4447e-04 - accuracy: 1.0000 - val_loss: 1.6338 - val_accuracy: 0.8570\n",
      "Epoch 20/20\n",
      "118/118 [==============================] - 1s 4ms/step - loss: 4.6939e-05 - accuracy: 1.0000 - val_loss: 1.8264 - val_accuracy: 0.8557\n",
      "Epoch 1/20\n",
      "118/118 [==============================] - 1s 7ms/step - loss: 0.5343 - accuracy: 0.7675 - val_loss: 0.3299 - val_accuracy: 0.8844\n",
      "Epoch 2/20\n",
      "118/118 [==============================] - 1s 5ms/step - loss: 0.2613 - accuracy: 0.9181 - val_loss: 0.3216 - val_accuracy: 0.8862\n",
      "Epoch 3/20\n",
      "118/118 [==============================] - 1s 5ms/step - loss: 0.2111 - accuracy: 0.9415 - val_loss: 0.3480 - val_accuracy: 0.8805\n",
      "Epoch 4/20\n",
      "118/118 [==============================] - 1s 5ms/step - loss: 0.2001 - accuracy: 0.9465 - val_loss: 0.3972 - val_accuracy: 0.8709\n",
      "Epoch 5/20\n",
      "118/118 [==============================] - 1s 5ms/step - loss: 0.1814 - accuracy: 0.9528 - val_loss: 0.3709 - val_accuracy: 0.8787\n",
      "Epoch 6/20\n",
      "118/118 [==============================] - 1s 5ms/step - loss: 0.1744 - accuracy: 0.9578 - val_loss: 0.4920 - val_accuracy: 0.8366\n",
      "Epoch 7/20\n",
      "118/118 [==============================] - 1s 5ms/step - loss: 0.1671 - accuracy: 0.9579 - val_loss: 0.3910 - val_accuracy: 0.8722\n",
      "Epoch 8/20\n",
      "118/118 [==============================] - 1s 5ms/step - loss: 0.1549 - accuracy: 0.9650 - val_loss: 0.4061 - val_accuracy: 0.8737\n",
      "Epoch 9/20\n",
      "118/118 [==============================] - 1s 5ms/step - loss: 0.1466 - accuracy: 0.9661 - val_loss: 0.4161 - val_accuracy: 0.8737\n",
      "Epoch 10/20\n",
      "118/118 [==============================] - 1s 5ms/step - loss: 0.1425 - accuracy: 0.9699 - val_loss: 0.4375 - val_accuracy: 0.8658\n",
      "Epoch 11/20\n",
      "118/118 [==============================] - 1s 5ms/step - loss: 0.1364 - accuracy: 0.9697 - val_loss: 0.4648 - val_accuracy: 0.8607\n",
      "Epoch 12/20\n",
      "118/118 [==============================] - 1s 5ms/step - loss: 0.1305 - accuracy: 0.9758 - val_loss: 0.4537 - val_accuracy: 0.8677\n",
      "Epoch 13/20\n",
      "118/118 [==============================] - 1s 5ms/step - loss: 0.1267 - accuracy: 0.9759 - val_loss: 0.4656 - val_accuracy: 0.8636\n",
      "Epoch 14/20\n",
      "118/118 [==============================] - 1s 5ms/step - loss: 0.1195 - accuracy: 0.9784 - val_loss: 0.4818 - val_accuracy: 0.8695\n",
      "Epoch 15/20\n",
      "118/118 [==============================] - 1s 5ms/step - loss: 0.1171 - accuracy: 0.9788 - val_loss: 0.4935 - val_accuracy: 0.8683\n",
      "Epoch 16/20\n",
      "118/118 [==============================] - 1s 5ms/step - loss: 0.1106 - accuracy: 0.9835 - val_loss: 0.5476 - val_accuracy: 0.8592\n",
      "Epoch 17/20\n",
      "118/118 [==============================] - 1s 5ms/step - loss: 0.1107 - accuracy: 0.9841 - val_loss: 0.5921 - val_accuracy: 0.8522\n",
      "Epoch 18/20\n",
      "118/118 [==============================] - 1s 5ms/step - loss: 0.1061 - accuracy: 0.9853 - val_loss: 0.4956 - val_accuracy: 0.8656\n",
      "Epoch 19/20\n",
      "118/118 [==============================] - 1s 5ms/step - loss: 0.0998 - accuracy: 0.9873 - val_loss: 0.4757 - val_accuracy: 0.8683\n",
      "Epoch 20/20\n",
      "118/118 [==============================] - 1s 5ms/step - loss: 0.0972 - accuracy: 0.9885 - val_loss: 0.5025 - val_accuracy: 0.8685\n"
     ]
    }
   ],
   "source": [
    "history1 = model.fit(\n",
    "    partial_x_train,\n",
    "    partial_y_train,\n",
    "    epochs=20,\n",
    "    batch_size=128,\n",
    "    validation_data=(x_val, y_val)\n",
    ")\n",
    "\n",
    "history2 = reg_model.fit(\n",
    "    partial_x_train,\n",
    "    partial_y_train,\n",
    "    epochs=20,\n",
    "    batch_size=128,\n",
    "    validation_data=(x_val, y_val)\n",
    ")"
   ]
  },
  {
   "cell_type": "code",
   "execution_count": 13,
   "metadata": {},
   "outputs": [
    {
     "data": {
      "image/png": "[encoded data removed]",
      "text/plain": [
       "<Figure size 432x288 with 1 Axes>"
      ]
     },
     "metadata": {
      "needs_background": "light"
     },
     "output_type": "display_data"
    }
   ],
   "source": [
    "import matplotlib.pyplot as plt\n",
    "\n",
    "history1_dict = history1.history\n",
    "history2_dict = history2.history\n",
    "\n",
    "val_loss_values1 = history1_dict['val_loss']\n",
    "val_loss_values2 = history2_dict['val_loss']\n",
    "\n",
    "epochs = range(1,len(val_loss_values1) + 1)\n",
    "\n",
    "plt.plot(epochs, val_loss_values1, 'b+', label='Original model')\n",
    "plt.plot(epochs, val_loss_values2, 'bo', label='L2-regularized model')\n",
    "\n",
    "\n",
    "plt.title('Validation loss')\n",
    "plt.xlabel('Epochs')\n",
    "plt.ylabel('Loss')\n",
    "plt.legend()\n",
    "\n",
    "plt.show()"
   ]
  },
  {
   "cell_type": "markdown",
   "metadata": {},
   "source": [
    "As you can see, the model with L2 regularization (dots) has become much more resistant to overfitting than the reference model (crosses), even though both models have the same number of parameters.\n",
    "\n",
    "As an alternative to L2 regularization, you can use one of the following Keras weight regularizers.\n",
    "\n",
    "```python\n",
    "\n",
    "# L1 regularization\n",
    "regularizers.l1(0.001)\n",
    "\n",
    "# Simultaneous L1 and L2 regularization\n",
    "regularizers.l1_l2(l1=0.001, l2=0.001)\n",
    "```"
   ]
  },
  {
   "cell_type": "markdown",
   "metadata": {},
   "source": [
    "## Adding dropout\n",
    "Dropout is one of the most effective and most commonly used regularization techniques for neural networks. Dropout, applied to a layer, consists of randomly dropping out (setting to zero) a number of output features of the layer during training.\n",
    "\n",
    "The *dropout rate* is the fraction of the features that are zeroed out; it’s usually set between $0.2$ and $0.5$. At test time, no units are dropped out; instead, the layer’s output values are scaled down by a factor equal to the dropout rate, to balance for the fact that more units are active than at training time.\n",
    "\n",
    "This technique may seem strange and arbitrary. Why would this help reduce overfitting? The core idea is that introducing noise in the output values of a layer can break up happenstance patterns that aren’t significant, which the network will start memorizing if no noise is present.\n",
    "\n",
    "In Keras, you can introduce dropout in a network via the Dropout layer, which is applied to the output of the **layer right before** it.:\n",
    "`model.add(layers.Dropout(0.5))`\n",
    "\n",
    "Let’s add two `Dropout` layers in the IMDB network to see how well they do at reducing overfitting."
   ]
  },
  {
   "cell_type": "code",
   "execution_count": 14,
   "metadata": {},
   "outputs": [],
   "source": [
    "drp_model = models.Sequential()\n",
    "drp_model.add(layers.Dense(16, activation='relu', input_shape=(10000,)))\n",
    "drp_model.add(layers.Dropout(0.5))\n",
    "drp_model.add(layers.Dense(16, activation='relu'))\n",
    "drp_model.add(layers.Dropout(0.5))\n",
    "drp_model.add(layers.Dense(1, activation='sigmoid'))\n",
    "\n",
    "drp_model.compile(optimizer='rmsprop', loss='binary_crossentropy', metrics=['accuracy'])"
   ]
  },
  {
   "cell_type": "code",
   "execution_count": 15,
   "metadata": {
    "scrolled": true
   },
   "outputs": [
    {
     "name": "stdout",
     "output_type": "stream",
     "text": [
      "Epoch 1/20\n",
      "118/118 [==============================] - 1s 7ms/step - loss: 0.6395 - accuracy: 0.6086 - val_loss: 0.4085 - val_accuracy: 0.8683\n",
      "Epoch 2/20\n",
      "118/118 [==============================] - 1s 5ms/step - loss: 0.4281 - accuracy: 0.8284 - val_loss: 0.3170 - val_accuracy: 0.8878\n",
      "Epoch 3/20\n",
      "118/118 [==============================] - 1s 5ms/step - loss: 0.3280 - accuracy: 0.8832 - val_loss: 0.2797 - val_accuracy: 0.8937\n",
      "Epoch 4/20\n",
      "118/118 [==============================] - 1s 5ms/step - loss: 0.2565 - accuracy: 0.9124 - val_loss: 0.2892 - val_accuracy: 0.8926\n",
      "Epoch 5/20\n",
      "118/118 [==============================] - 1s 5ms/step - loss: 0.2310 - accuracy: 0.9206 - val_loss: 0.3210 - val_accuracy: 0.8904\n",
      "Epoch 6/20\n",
      "118/118 [==============================] - 1s 5ms/step - loss: 0.2034 - accuracy: 0.9294 - val_loss: 0.3154 - val_accuracy: 0.8868\n",
      "Epoch 7/20\n",
      "118/118 [==============================] - 1s 5ms/step - loss: 0.1894 - accuracy: 0.9375 - val_loss: 0.3502 - val_accuracy: 0.8880\n",
      "Epoch 8/20\n",
      "118/118 [==============================] - 1s 5ms/step - loss: 0.1759 - accuracy: 0.9441 - val_loss: 0.3728 - val_accuracy: 0.8873\n",
      "Epoch 9/20\n",
      "118/118 [==============================] - 1s 5ms/step - loss: 0.1684 - accuracy: 0.9479 - val_loss: 0.3848 - val_accuracy: 0.8811\n",
      "Epoch 10/20\n",
      "118/118 [==============================] - 1s 5ms/step - loss: 0.1552 - accuracy: 0.9509 - val_loss: 0.4183 - val_accuracy: 0.8846\n",
      "Epoch 11/20\n",
      "118/118 [==============================] - 1s 5ms/step - loss: 0.1461 - accuracy: 0.9552 - val_loss: 0.4526 - val_accuracy: 0.8821\n",
      "Epoch 12/20\n",
      "118/118 [==============================] - 1s 5ms/step - loss: 0.1478 - accuracy: 0.9598 - val_loss: 0.4392 - val_accuracy: 0.8780\n",
      "Epoch 13/20\n",
      "118/118 [==============================] - 1s 5ms/step - loss: 0.1496 - accuracy: 0.9588 - val_loss: 0.4965 - val_accuracy: 0.8806\n",
      "Epoch 14/20\n",
      "118/118 [==============================] - 1s 5ms/step - loss: 0.1418 - accuracy: 0.9592 - val_loss: 0.5084 - val_accuracy: 0.8811\n",
      "Epoch 15/20\n",
      "118/118 [==============================] - 1s 5ms/step - loss: 0.1488 - accuracy: 0.9590 - val_loss: 0.5134 - val_accuracy: 0.8790\n",
      "Epoch 16/20\n",
      "118/118 [==============================] - 1s 5ms/step - loss: 0.1301 - accuracy: 0.9631 - val_loss: 0.5149 - val_accuracy: 0.8763\n",
      "Epoch 17/20\n",
      "118/118 [==============================] - 1s 5ms/step - loss: 0.1252 - accuracy: 0.9637 - val_loss: 0.5466 - val_accuracy: 0.8783\n",
      "Epoch 18/20\n",
      "118/118 [==============================] - 1s 5ms/step - loss: 0.1243 - accuracy: 0.9661 - val_loss: 0.5556 - val_accuracy: 0.8767\n",
      "Epoch 19/20\n",
      "118/118 [==============================] - 1s 5ms/step - loss: 0.1347 - accuracy: 0.9639 - val_loss: 0.5772 - val_accuracy: 0.8730\n",
      "Epoch 20/20\n",
      "118/118 [==============================] - 1s 4ms/step - loss: 0.1368 - accuracy: 0.9603 - val_loss: 0.5724 - val_accuracy: 0.8728\n"
     ]
    }
   ],
   "source": [
    "history2 = drp_model.fit(\n",
    "    partial_x_train,\n",
    "    partial_y_train,\n",
    "    epochs=20,\n",
    "    batch_size=128,\n",
    "    validation_data=(x_val, y_val)\n",
    ")"
   ]
  },
  {
   "cell_type": "code",
   "execution_count": 16,
   "metadata": {},
   "outputs": [
    {
     "data": {
      "image/png": "[encoded data removed]",
      "text/plain": [
       "<Figure size 432x288 with 1 Axes>"
      ]
     },
     "metadata": {
      "needs_background": "light"
     },
     "output_type": "display_data"
    }
   ],
   "source": [
    "history1_dict = history1.history\n",
    "history2_dict = history2.history\n",
    "\n",
    "val_loss_values1 = history1_dict['val_loss']\n",
    "val_loss_values2 = history2_dict['val_loss']\n",
    "\n",
    "epochs = range(1,len(val_loss_values1) + 1)\n",
    "\n",
    "plt.plot(epochs, val_loss_values1, 'b+', label='Original model')\n",
    "plt.plot(epochs, val_loss_values2, 'bo', label='Drop-out regularized model')\n",
    "\n",
    "\n",
    "plt.title('Validation loss')\n",
    "plt.xlabel('Epochs')\n",
    "plt.ylabel('Loss')\n",
    "plt.legend()\n",
    "\n",
    "plt.show()"
   ]
  },
  {
   "cell_type": "markdown",
   "metadata": {},
   "source": [
    "Again, this is a clear improvement over the reference network.\n",
    "\n",
    "To recap, these are the most common ways to prevent overfitting in neural networks:\n",
    "- Get more training data.\n",
    "- Reduce the capacity of the network.\n",
    "- Add weight regularization.\n",
    "- Add dropout.\n"
   ]
  }
 ],
 "metadata": {
  "kernelspec": {
   "display_name": "Python 3",
   "language": "python",
   "name": "python3"
  },
  "language_info": {
   "codemirror_mode": {
    "name": "ipython",
    "version": 3
   },
   "file_extension": ".py",
   "mimetype": "text/x-python",
   "name": "python",
   "nbconvert_exporter": "python",
   "pygments_lexer": "ipython3",
   "version": "3.8.5"
  }
 },
 "nbformat": 4,
 "nbformat_minor": 4
}
